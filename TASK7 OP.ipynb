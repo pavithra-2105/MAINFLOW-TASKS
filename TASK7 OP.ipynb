{
 "cells": [
  {
   "cell_type": "code",
   "execution_count": 1,
   "id": "85280015-e6aa-4cbc-884b-216a06cdbec1",
   "metadata": {},
   "outputs": [
    {
     "name": "stdout",
     "output_type": "stream",
     "text": [
      "Number of inversions: 3\n"
     ]
    }
   ],
   "source": [
    "def count_inversions(arr):\n",
    "    def merge_sort(nums):\n",
    "        if len(nums) <= 1:\n",
    "            return nums, 0\n",
    "        mid = len(nums) // 2\n",
    "        left, inv_left = merge_sort(nums[:mid])\n",
    "        right, inv_right = merge_sort(nums[mid:])\n",
    "        merged, inv_merge = merge(left, right)\n",
    "        total_inversions = inv_left + inv_right + inv_merge\n",
    "        return merged, total_inversions\n",
    "\n",
    "    def merge(left, right):\n",
    "        merged = []\n",
    "        i = j = inv_count = 0\n",
    "        while i < len(left) and j < len(right):\n",
    "            if left[i] <= right[j]:\n",
    "                merged.append(left[i])\n",
    "                i += 1\n",
    "            else:\n",
    "                merged.append(right[j])\n",
    "                inv_count += len(left) - i  # count inversions\n",
    "                j += 1\n",
    "        merged += left[i:]\n",
    "        merged += right[j:]\n",
    "        return merged, inv_count\n",
    "\n",
    "    _, total = merge_sort(arr)\n",
    "    return total\n",
    "\n",
    "arr = [2, 4, 1, 3, 5]\n",
    "print(\"Number of inversions:\", count_inversions(arr)) "
   ]
  },
  {
   "cell_type": "code",
   "execution_count": 2,
   "id": "bc861831-02cc-4623-849f-d32fda35cd97",
   "metadata": {},
   "outputs": [
    {
     "name": "stdout",
     "output_type": "stream",
     "text": [
      "Longest Palindromic Substring: bab\n"
     ]
    }
   ],
   "source": [
    "def longest_palindromic_substring(s):\n",
    "    def expand_from_center(left, right):\n",
    "        while left >= 0 and right < len(s) and s[left] == s[right]:\n",
    "            left -= 1\n",
    "            right += 1\n",
    "        return s[left + 1:right]  # valid palindrome\n",
    "\n",
    "    longest = \"\"\n",
    "    for i in range(len(s)):\n",
    "       \n",
    "        p1 = expand_from_center(i, i)\n",
    "       \n",
    "        p2 = expand_from_center(i, i + 1)\n",
    "  \n",
    "        if len(p1) > len(longest):\n",
    "            longest = p1\n",
    "        if len(p2) > len(longest):\n",
    "            longest = p2\n",
    "    return longest\n",
    "\n",
    "text = \"babad\"\n",
    "print(\"Longest Palindromic Substring:\", longest_palindromic_substring(text)) "
   ]
  },
  {
   "cell_type": "code",
   "execution_count": 3,
   "id": "af21fe56-f1ba-4e03-b24e-5a8e3d095c4c",
   "metadata": {},
   "outputs": [
    {
     "name": "stdout",
     "output_type": "stream",
     "text": [
      "Minimum cost of TSP route: 80\n"
     ]
    }
   ],
   "source": [
    "import sys\n",
    "\n",
    "def tsp_dp(graph):\n",
    "    n = len(graph)\n",
    "    VISITED_ALL = (1 << n) - 1\n",
    "    memo = {}\n",
    "\n",
    "    def tsp(mask, pos):\n",
    "        if mask == VISITED_ALL:\n",
    "            return graph[pos][0]  # Return to start\n",
    "\n",
    "        if (mask, pos) in memo:\n",
    "            return memo[(mask, pos)]\n",
    "\n",
    "        min_cost = sys.maxsize\n",
    "        for city in range(n):\n",
    "            if (mask >> city) & 1 == 0:  # If not visited\n",
    "                new_cost = graph[pos][city] + tsp(mask | (1 << city), city)\n",
    "                min_cost = min(min_cost, new_cost)\n",
    "        memo[(mask, pos)] = min_cost\n",
    "        return min_cost\n",
    "\n",
    "    return tsp(1, 0)  # Start from city 0\n",
    "\n",
    "graph = [\n",
    "    [0, 10, 15, 20],\n",
    "    [10, 0, 35, 25],\n",
    "    [15, 35, 0, 30],\n",
    "    [20, 25, 30, 0]\n",
    "]\n",
    "\n",
    "print(\"Minimum cost of TSP route:\", tsp_dp(graph)) "
   ]
  },
  {
   "cell_type": "code",
   "execution_count": 5,
   "id": "321c251b-ca96-4dd9-b237-7948da7591d8",
   "metadata": {},
   "outputs": [
    {
     "name": "stdout",
     "output_type": "stream",
     "text": [
      "Graph has cycle: True\n",
      "Graph has cycle: False\n"
     ]
    }
   ],
   "source": [
    "def has_cycle(graph):\n",
    "    visited = set()\n",
    "\n",
    "    def dfs(current, parent):\n",
    "        visited.add(current)\n",
    "        for neighbor in graph.get(current, []):\n",
    "            if neighbor not in visited:\n",
    "                if dfs(neighbor, current):\n",
    "                    return True\n",
    "            elif neighbor != parent:\n",
    "                return True\n",
    "        return False\n",
    "\n",
    "    for node in graph:\n",
    "        if node not in visited:\n",
    "            if dfs(node, -1):\n",
    "                return True\n",
    "    return False\n",
    "\n",
    "graph_with_cycle = {\n",
    "    0: [1, 2],\n",
    "    1: [0, 2],\n",
    "    2: [0, 1]\n",
    "}\n",
    "\n",
    "graph_without_cycle = {\n",
    "    0: [1],\n",
    "    1: [0, 2],\n",
    "    2: [1]\n",
    "}\n",
    "\n",
    "print(\"Graph has cycle:\", has_cycle(graph_with_cycle))       \n",
    "print(\"Graph has cycle:\", has_cycle(graph_without_cycle))  "
   ]
  },
  {
   "cell_type": "code",
   "execution_count": 6,
   "id": "997652ce-fbd7-4f07-bdb6-7ae68afe2064",
   "metadata": {},
   "outputs": [
    {
     "name": "stdout",
     "output_type": "stream",
     "text": [
      "Length of longest unique substring: 7\n"
     ]
    }
   ],
   "source": [
    "def longest_unique_substring_length(s):\n",
    "    char_index = {}\n",
    "    left = 0\n",
    "    max_len = 0\n",
    "\n",
    "    for right in range(len(s)):\n",
    "        if s[right] in char_index and char_index[s[right]] >= left:\n",
    "            left = char_index[s[right]] + 1  # Move left pointer after the repeated character\n",
    "        char_index[s[right]] = right\n",
    "        max_len = max(max_len, right - left + 1)\n",
    "\n",
    "    return max_len\n",
    "\n",
    "text = \"pavithra\"\n",
    "print(\"Length of longest unique substring:\", longest_unique_substring_length(text)) "
   ]
  },
  {
   "cell_type": "code",
   "execution_count": 7,
   "id": "397bf842-f3f5-4dea-a4ad-e845276f47fd",
   "metadata": {},
   "outputs": [
    {
     "name": "stdout",
     "output_type": "stream",
     "text": [
      "Valid parentheses combinations:\n",
      "((()))\n",
      "(()())\n",
      "(())()\n",
      "()(())\n",
      "()()()\n"
     ]
    }
   ],
   "source": [
    "def generate_parentheses(n):\n",
    "    result = []\n",
    "\n",
    "    def backtrack(current, open_count, close_count):\n",
    "        if len(current) == 2 * n:\n",
    "            result.append(current)\n",
    "            return\n",
    "        if open_count < n:\n",
    "            backtrack(current + \"(\", open_count + 1, close_count)\n",
    "        if close_count < open_count:\n",
    "            backtrack(current + \")\", open_count, close_count + 1)\n",
    "\n",
    "    backtrack(\"\", 0, 0)\n",
    "    return result\n",
    "\n",
    "n = 3\n",
    "print(\"Valid parentheses combinations:\")\n",
    "for combo in generate_parentheses(n):\n",
    "    print(combo) "
   ]
  },
  {
   "cell_type": "code",
   "execution_count": 8,
   "id": "e0789fbc-e0a6-407d-b501-980c029abb40",
   "metadata": {},
   "outputs": [
    {
     "name": "stdout",
     "output_type": "stream",
     "text": [
      "Zigzag level order traversal:\n",
      "[[1], [3, 2], [4, 5, 6, 7]]\n"
     ]
    }
   ],
   "source": [
    "class TreeNode:\n",
    "    def __init__(self, value):\n",
    "        self.val = value\n",
    "        self.left = None\n",
    "        self.right = None\n",
    "\n",
    "def zigzag_level_order(root):\n",
    "    if not root:\n",
    "        return []\n",
    "\n",
    "    result = []\n",
    "    current_level = [root]\n",
    "    left_to_right = True\n",
    "\n",
    "    while current_level:\n",
    "        level_values = []\n",
    "        next_level = []\n",
    "\n",
    "        for node in current_level:\n",
    "            level_values.append(node.val)\n",
    "            if node.left:\n",
    "                next_level.append(node.left)\n",
    "            if node.right:\n",
    "                next_level.append(node.right)\n",
    "\n",
    "        if not left_to_right:\n",
    "            level_values.reverse()\n",
    "\n",
    "        result.append(level_values)\n",
    "        current_level = next_level\n",
    "        left_to_right = not left_to_right\n",
    "\n",
    "    return result\n",
    "\n",
    "#         1\n",
    "#       /   \\\n",
    "#      2     3\n",
    "#     / \\   / \\\n",
    "#    4   5 6   7\n",
    "\n",
    "root = TreeNode(1)\n",
    "root.left = TreeNode(2)\n",
    "root.right = TreeNode(3)\n",
    "root.left.left = TreeNode(4)\n",
    "root.left.right = TreeNode(5)\n",
    "root.right.left = TreeNode(6)\n",
    "root.right.right = TreeNode(7)\n",
    "\n",
    "print(\"Zigzag level order traversal:\")\n",
    "print(zigzag_level_order(root)) "
   ]
  },
  {
   "cell_type": "code",
   "execution_count": 9,
   "id": "d1cf3478-d504-42e1-8cd2-57901e53ec2d",
   "metadata": {},
   "outputs": [
    {
     "name": "stdout",
     "output_type": "stream",
     "text": [
      "Palindrome partitions:\n",
      "['a', 'a', 'b']\n",
      "['aa', 'b']\n"
     ]
    }
   ],
   "source": [
    "def is_palindrome(s):\n",
    "    return s == s[::-1]\n",
    "\n",
    "def palindrome_partitions(s):\n",
    "    result = []\n",
    "\n",
    "    def backtrack(start, path):\n",
    "        if start == len(s):\n",
    "            result.append(path[:])\n",
    "            return\n",
    "        for end in range(start + 1, len(s) + 1):\n",
    "            substring = s[start:end]\n",
    "            if is_palindrome(substring):\n",
    "                path.append(substring)\n",
    "                backtrack(end, path)\n",
    "                path.pop()\n",
    "\n",
    "    backtrack(0, [])\n",
    "    return result\n",
    "\n",
    "text = \"aab\"\n",
    "print(\"Palindrome partitions:\")\n",
    "for partition in palindrome_partitions(text):\n",
    "    print(partition) "
   ]
  },
  {
   "cell_type": "code",
   "execution_count": null,
   "id": "c0fdc3a5-35c9-40f5-8263-da4a7f7e00bf",
   "metadata": {},
   "outputs": [
    {
     "name": "stdout",
     "output_type": "stream",
     "text": [
      "\n",
      "---- Personal Budget Advisor ----\n",
      "1. Record Income\n",
      "2. Record Expense\n",
      "3. Analyze Budget\n",
      "4. Exit\n"
     ]
    },
    {
     "name": "stdout",
     "output_type": "stream",
     "text": [
      "Choose an option (1-4):  1\n",
      "Enter your income amount:  50000\n",
      "Enter income source (e.g., job, freelance):  salary\n"
     ]
    },
    {
     "name": "stdout",
     "output_type": "stream",
     "text": [
      "Income recorded.\n",
      "\n",
      "---- Personal Budget Advisor ----\n",
      "1. Record Income\n",
      "2. Record Expense\n",
      "3. Analyze Budget\n",
      "4. Exit\n"
     ]
    },
    {
     "name": "stdout",
     "output_type": "stream",
     "text": [
      "Choose an option (1-4):  3\n"
     ]
    },
    {
     "name": "stdout",
     "output_type": "stream",
     "text": [
      "\n",
      "------ Budget Summary ------\n",
      "Total Income: 50000.0\n",
      "Total Expenses: 0\n",
      "Savings: 50000.0\n",
      "Suggestion: Great job saving!\n",
      "\n",
      "---- Personal Budget Advisor ----\n",
      "1. Record Income\n",
      "2. Record Expense\n",
      "3. Analyze Budget\n",
      "4. Exit\n"
     ]
    }
   ],
   "source": [
    "def save_to_file(data, filename):\n",
    "    with open(filename, 'a') as f:\n",
    "        f.write(data + '\\n')\n",
    "\n",
    "def read_file(filename):\n",
    "    try:\n",
    "        with open(filename, 'r') as f:\n",
    "            return [line.strip() for line in f.readlines()]\n",
    "    except FileNotFoundError:\n",
    "        return []\n",
    "\n",
    "def record_income():\n",
    "    amount = input(\"Enter your income amount: \")\n",
    "    source = input(\"Enter income source (e.g., job, freelance): \")\n",
    "    save_to_file(f\"INCOME,{amount},{source}\", \"budget.txt\")\n",
    "    print(\"Income recorded.\")\n",
    "\n",
    "def record_expense():\n",
    "    amount = input(\"Enter your expense amount: \")\n",
    "    category = input(\"Enter expense category (e.g., food, rent): \")\n",
    "    save_to_file(f\"EXPENSE,{amount},{category}\", \"budget.txt\")\n",
    "    print(\"Expense recorded.\")\n",
    "\n",
    "def analyze_budget():\n",
    "    lines = read_file(\"budget.txt\")\n",
    "    total_income = 0\n",
    "    total_expense = 0\n",
    "\n",
    "    for line in lines:\n",
    "        parts = line.split(',')\n",
    "        if parts[0] == \"INCOME\":\n",
    "            try:\n",
    "                total_income += float(parts[1])\n",
    "            except ValueError:\n",
    "                print(f\"Invalid income amount in record: {line}\")\n",
    "        elif parts[0] == \"EXPENSE\":\n",
    "            try:\n",
    "                total_expense += float(parts[1])\n",
    "            except ValueError:\n",
    "                print(f\"Invalid expense amount in record: {line}\")\n",
    "\n",
    "    savings = total_income - total_expense\n",
    "    print(\"\\n------ Budget Summary ------\")\n",
    "    print(\"Total Income:\", total_income)\n",
    "    print(\"Total Expenses:\", total_expense)\n",
    "    print(\"Savings:\", savings)\n",
    "\n",
    "    if total_income == 0:\n",
    "        print(\"⚠️ No income recorded.\")\n",
    "    elif total_expense > 0.8 * total_income:\n",
    "        print(\"Suggestion: You're overspending. Try to cut unnecessary expenses.\")\n",
    "    elif savings >= 0.3 * total_income:\n",
    "        print(\"Suggestion: Great job saving!\")\n",
    "    else:\n",
    "        print(\"Suggestion: Try to increase your savings.\")\n",
    "\n",
    "def main():\n",
    "    while True:\n",
    "        print(\"\\n---- Personal Budget Advisor ----\")\n",
    "        print(\"1. Record Income\")\n",
    "        print(\"2. Record Expense\")\n",
    "        print(\"3. Analyze Budget\")\n",
    "        print(\"4. Exit\")\n",
    "        choice = input(\"Choose an option (1-4): \")\n",
    "\n",
    "        if choice == '1':\n",
    "            record_income()\n",
    "        elif choice == '2':\n",
    "            record_expense()\n",
    "        elif choice == '3':\n",
    "            analyze_budget()\n",
    "        elif choice == '4':\n",
    "            print(\"Exiting Budget Advisor. Goodbye!\")\n",
    "            break\n",
    "        else:\n",
    "            print(\"Invalid choice. Please try again.\")\n",
    "\n",
    "main() "
   ]
  },
  {
   "cell_type": "code",
   "execution_count": null,
   "id": "53bb7e34-bc8f-49ba-88f5-fffbaf28a0ff",
   "metadata": {},
   "outputs": [],
   "source": []
  }
 ],
 "metadata": {
  "kernelspec": {
   "display_name": "Python 3 (ipykernel)",
   "language": "python",
   "name": "python3"
  },
  "language_info": {
   "codemirror_mode": {
    "name": "ipython",
    "version": 3
   },
   "file_extension": ".py",
   "mimetype": "text/x-python",
   "name": "python",
   "nbconvert_exporter": "python",
   "pygments_lexer": "ipython3",
   "version": "3.13.3"
  }
 },
 "nbformat": 4,
 "nbformat_minor": 5
}
