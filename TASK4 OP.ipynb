{
 "cells": [
  {
   "cell_type": "code",
   "execution_count": 1,
   "id": "a9f11e70-3c1d-4433-a251-18778ac6415f",
   "metadata": {},
   "outputs": [
    {
     "name": "stdout",
     "output_type": "stream",
     "text": [
      "3\n"
     ]
    }
   ],
   "source": [
    "def find_missing_number(arr):\n",
    "    n = len(arr) + 1\n",
    "    expected_sum = n * (n + 1) // 2\n",
    "    actual_sum = sum(arr)\n",
    "    return expected_sum - actual_sum\n",
    "\n",
    "print(find_missing_number([1, 2, 4, 5, 6])) \n"
   ]
  },
  {
   "cell_type": "code",
   "execution_count": 3,
   "id": "48049cf6-172e-426b-95c6-3bb5f6859ef9",
   "metadata": {},
   "outputs": [
    {
     "name": "stdout",
     "output_type": "stream",
     "text": [
      "True\n"
     ]
    }
   ],
   "source": [
    "def is_balanced(s):\n",
    "    stack = []\n",
    "    mapping = {')': '(', '}': '{', ']': '['}\n",
    "    for char in s:\n",
    "        if char in mapping.values():\n",
    "            stack.append(char)\n",
    "        elif char in mapping:\n",
    "            if not stack or stack[-1] != mapping[char]:\n",
    "                return False\n",
    "            stack.pop()\n",
    "    return not stack\n",
    "\n",
    "print(is_balanced(\"{[()]}\")) "
   ]
  },
  {
   "cell_type": "code",
   "execution_count": 4,
   "id": "1fe76a14-4b2d-49fe-bf44-a61b588a641c",
   "metadata": {},
   "outputs": [
    {
     "name": "stdout",
     "output_type": "stream",
     "text": [
      "programming\n"
     ]
    }
   ],
   "source": [
    "def longest_word(sentence):\n",
    "    words = sentence.split()\n",
    "    return max(words, key=len)\n",
    "\n",
    "print(longest_word(\"main flow internship python programming language\")) "
   ]
  },
  {
   "cell_type": "code",
   "execution_count": 5,
   "id": "649b51dd-07f5-4760-9a5a-e79c6d048e38",
   "metadata": {},
   "outputs": [
    {
     "name": "stdout",
     "output_type": "stream",
     "text": [
      "3\n"
     ]
    }
   ],
   "source": [
    "def count_words(sentence):\n",
    "    return len(sentence.split())\n",
    "\n",
    "print(count_words(\"Main flow technologies\")) "
   ]
  },
  {
   "cell_type": "code",
   "execution_count": 6,
   "id": "958f4401-4038-4005-b058-6439859f7be1",
   "metadata": {},
   "outputs": [
    {
     "name": "stdout",
     "output_type": "stream",
     "text": [
      "True\n"
     ]
    }
   ],
   "source": [
    "def is_pythagorean_triplet(a, b, c):\n",
    "    x, y, z = sorted([a, b, c])\n",
    "    return x*x + y*y == z*z\n",
    "\n",
    "print(is_pythagorean_triplet(3, 4, 5)) "
   ]
  },
  {
   "cell_type": "code",
   "execution_count": 7,
   "id": "5397d91e-12f4-4cc1-b9b3-9129004ff2df",
   "metadata": {},
   "outputs": [
    {
     "name": "stdout",
     "output_type": "stream",
     "text": [
      "[1, 2, 4, 5, 8]\n"
     ]
    }
   ],
   "source": [
    "def bubble_sort(arr):\n",
    "    n = len(arr)\n",
    "    for i in range(n):\n",
    "        for j in range(n - i - 1):\n",
    "            if arr[j] > arr[j + 1]:\n",
    "                arr[j], arr[j + 1] = arr[j + 1], arr[j]\n",
    "    return arr\n",
    "\n",
    "print(bubble_sort([5, 1, 4, 2, 8])) "
   ]
  },
  {
   "cell_type": "code",
   "execution_count": 8,
   "id": "efa5b23a-1ce2-4318-b99c-cf89b102d23a",
   "metadata": {},
   "outputs": [
    {
     "name": "stdout",
     "output_type": "stream",
     "text": [
      "3\n"
     ]
    }
   ],
   "source": [
    "def binary_search(arr, target):\n",
    "    low, high = 0, len(arr) - 1\n",
    "    while low <= high:\n",
    "        mid = (low + high) // 2\n",
    "        if arr[mid] == target:\n",
    "            return mid\n",
    "        elif arr[mid] < target:\n",
    "            low = mid + 1\n",
    "        else:\n",
    "            high = mid - 1\n",
    "    return -1\n",
    "\n",
    "print(binary_search([1, 3, 5, 7, 9], 7)) "
   ]
  },
  {
   "cell_type": "code",
   "execution_count": 9,
   "id": "1c3728a8-a8e7-4708-afe8-3481091ea5e1",
   "metadata": {},
   "outputs": [
    {
     "name": "stdout",
     "output_type": "stream",
     "text": [
      "(1, 3)\n"
     ]
    }
   ],
   "source": [
    "def find_subarray_with_sum(arr, target_sum):\n",
    "    current_sum = 0\n",
    "    start = 0\n",
    "    for end in range(len(arr)):\n",
    "        current_sum += arr[end]\n",
    "        while current_sum > target_sum:\n",
    "            current_sum -= arr[start]\n",
    "            start += 1\n",
    "        if current_sum == target_sum:\n",
    "            return (start, end)\n",
    "    return -1\n",
    "\n",
    "print(find_subarray_with_sum([1, 2, 3, 7, 5], 12)) "
   ]
  },
  {
   "cell_type": "code",
   "execution_count": 1,
   "id": "4045822c-705c-4b9a-95ad-f1208d1e7c3c",
   "metadata": {},
   "outputs": [
    {
     "name": "stdout",
     "output_type": "stream",
     "text": [
      "Most frequent IP: ('192.168.1.1', 3)\n",
      "Most common status: (' 200', 4)\n",
      "Most visited URL: ('/home', 3)\n"
     ]
    }
   ],
   "source": [
    "from collections import defaultdict\n",
    "import re\n",
    "\n",
    "log_lines = [\n",
    "    '192.168.1.1 - - [10/Oct/2023:13:55:36 +0000] \"GET /home HTTP/1.1\" 200 1234',\n",
    "    '192.168.1.2 - - [10/Oct/2023:13:55:40 +0000] \"GET /about HTTP/1.1\" 404 5678',\n",
    "    '192.168.1.1 - - [10/Oct/2023:13:55:45 +0000] \"GET /contact HTTP/1.1\" 200 9101',\n",
    "    '192.168.1.3 - - [10/Oct/2023:13:55:50 +0000] \"GET /home HTTP/1.1\" 200 1122',\n",
    "    '192.168.1.1 - - [10/Oct/2023:13:55:55 +0000] \"GET /home HTTP/1.1\" 200 3344'\n",
    "]\n",
    "\n",
    "ip_counts = defaultdict(int)\n",
    "status_counts = defaultdict(int)\n",
    "url_counts = defaultdict(int)\n",
    "\n",
    "for line in log_lines:\n",
    "    ip = re.match(r'^(\\S+)', line).group(1)  \n",
    "    status = re.search(r'\" \\d{3} ', line).group().strip()[1:]  \n",
    "    url = re.search(r'\"(GET|POST) (.+?) HTTP', line).group(2)  \n",
    "    \n",
    "    ip_counts[ip] += 1\n",
    "    status_counts[status] += 1\n",
    "    url_counts[url] += 1\n",
    "\n",
    "print(\"Most frequent IP:\", max(ip_counts.items(), key=lambda x: x[1]))\n",
    "print(\"Most common status:\", max(status_counts.items(), key=lambda x: x[1]))\n",
    "print(\"Most visited URL:\", max(url_counts.items(), key=lambda x: x[1])) "
   ]
  },
  {
   "cell_type": "code",
   "execution_count": null,
   "id": "dd1f334b-09ba-4f5a-adbd-749e3f92ddd0",
   "metadata": {},
   "outputs": [],
   "source": []
  }
 ],
 "metadata": {
  "kernelspec": {
   "display_name": "Python 3 (ipykernel)",
   "language": "python",
   "name": "python3"
  },
  "language_info": {
   "codemirror_mode": {
    "name": "ipython",
    "version": 3
   },
   "file_extension": ".py",
   "mimetype": "text/x-python",
   "name": "python",
   "nbconvert_exporter": "python",
   "pygments_lexer": "ipython3",
   "version": "3.13.3"
  }
 },
 "nbformat": 4,
 "nbformat_minor": 5
}
