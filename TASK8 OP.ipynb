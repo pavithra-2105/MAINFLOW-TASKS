{
 "cells": [
  {
   "cell_type": "code",
   "execution_count": 2,
   "id": "cdd77971-b55b-4252-b8b0-0411d5a7432c",
   "metadata": {},
   "outputs": [
    {
     "name": "stdout",
     "output_type": "stream",
     "text": [
      "Serialized: 1,2,#,#,3,4,#,#,5,#,#\n",
      "Deserialized Root: 1\n"
     ]
    }
   ],
   "source": [
    "class TreeNode:\n",
    "    def __init__(self, val=0, left=None, right=None):\n",
    "        self.val = val\n",
    "        self.left = left\n",
    "        self.right = right\n",
    "\n",
    "class Codec:\n",
    "    def serialize(self, root):\n",
    "        def preorder(node):\n",
    "            if not node:\n",
    "                return ['#']\n",
    "            return [str(node.val)] + preorder(node.left) + preorder(node.right)\n",
    "        return ','.join(preorder(root))\n",
    "\n",
    "    def deserialize(self, data):\n",
    "        def build(nodes):\n",
    "            val = next(nodes)\n",
    "            if val == '#':\n",
    "                return None\n",
    "            node = TreeNode(int(val))\n",
    "            node.left = build(nodes)\n",
    "            node.right = build(nodes)\n",
    "            return node\n",
    "        return build(iter(data.split(',')))\n",
    "\n",
    "codec = Codec()\n",
    "root = TreeNode(1, TreeNode(2), TreeNode(3, TreeNode(4), TreeNode(5)))\n",
    "\n",
    "serialized = codec.serialize(root)\n",
    "print(\"Serialized:\", serialized)\n",
    "\n",
    "deserialized = codec.deserialize(serialized)\n",
    "print(\"Deserialized Root:\", deserialized.val) "
   ]
  },
  {
   "cell_type": "code",
   "execution_count": 3,
   "id": "0462cfab-f0e4-4933-b40f-dcfcb23c48a0",
   "metadata": {},
   "outputs": [
    {
     "name": "stdout",
     "output_type": "stream",
     "text": [
      "Maximum Flow: 23\n"
     ]
    }
   ],
   "source": [
    "from collections import deque\n",
    "\n",
    "def bfs(rGraph, s, t, parent):\n",
    "    visited = [False] * len(rGraph)\n",
    "    queue = deque([s])\n",
    "    visited[s] = True\n",
    "    while queue:\n",
    "        u = queue.popleft()\n",
    "        for v, capacity in enumerate(rGraph[u]):\n",
    "            if not visited[v] and capacity > 0:\n",
    "                queue.append(v)\n",
    "                visited[v] = True\n",
    "                parent[v] = u\n",
    "    return visited[t]\n",
    "\n",
    "def ford_fulkerson(graph, source, sink):\n",
    "    rGraph = [row[:] for row in graph]\n",
    "    parent = [-1] * len(graph)\n",
    "    max_flow = 0\n",
    "    while bfs(rGraph, source, sink, parent):\n",
    "        path_flow = float('inf')\n",
    "        v = sink\n",
    "        while v != source:\n",
    "            u = parent[v]\n",
    "            path_flow = min(path_flow, rGraph[u][v])\n",
    "            v = parent[v]\n",
    "        max_flow += path_flow\n",
    "        v = sink\n",
    "        while v != source:\n",
    "            u = parent[v]\n",
    "            rGraph[u][v] -= path_flow\n",
    "            rGraph[v][u] += path_flow\n",
    "            v = parent[v]\n",
    "    return max_flow\n",
    "\n",
    "graph = [[0, 16, 13, 0, 0, 0],\n",
    "         [0, 0, 10, 12, 0, 0],\n",
    "         [0, 4, 0, 0, 14, 0],\n",
    "         [0, 0, 9, 0, 0, 20],\n",
    "         [0, 0, 0, 7, 0, 4],\n",
    "         [0, 0, 0, 0, 0, 0]]\n",
    "\n",
    "print(\"Maximum Flow:\", ford_fulkerson(graph, 0, 5)) "
   ]
  },
  {
   "cell_type": "code",
   "execution_count": 4,
   "id": "f6c40aa5-333f-4186-9d48-7ca7838bc89b",
   "metadata": {},
   "outputs": [
    {
     "name": "stdout",
     "output_type": "stream",
     "text": [
      "Edit Distance: 3\n"
     ]
    }
   ],
   "source": [
    "def edit_distance(s1, s2):\n",
    "    m, n = len(s1), len(s2)\n",
    "    dp = [[0]*(n+1) for _ in range(m+1)]\n",
    "\n",
    "    for i in range(m+1):\n",
    "        for j in range(n+1):\n",
    "            if i == 0:\n",
    "                dp[i][j] = j\n",
    "            elif j == 0:\n",
    "                dp[i][j] = i\n",
    "            elif s1[i-1] == s2[j-1]:\n",
    "                dp[i][j] = dp[i-1][j-1]\n",
    "            else:\n",
    "                dp[i][j] = 1 + min(dp[i-1][j], dp[i][j-1], dp[i-1][j-1])\n",
    "    return dp[m][n]\n",
    "\n",
    "s1 = \"kitten\"\n",
    "s2 = \"sitting\"\n",
    "print(\"Edit Distance:\", edit_distance(s1, s2)) "
   ]
  },
  {
   "cell_type": "code",
   "execution_count": 5,
   "id": "bc47aa62-f3b5-415d-aa88-1e8eb4190f43",
   "metadata": {},
   "outputs": [
    {
     "name": "stdout",
     "output_type": "stream",
     "text": [
      "K-th Smallest: 4\n"
     ]
    }
   ],
   "source": [
    "class TreeNode:\n",
    "    def __init__(self, val=0, left=None, right=None):\n",
    "        self.val = val\n",
    "        self.left = left\n",
    "        self.right = right\n",
    "\n",
    "def kth_smallest(root, k):\n",
    "    def inorder(node):\n",
    "        if not node:\n",
    "            return []\n",
    "        return inorder(node.left) + [node.val] + inorder(node.right)\n",
    "    \n",
    "    return inorder(root)[k-1]\n",
    "\n",
    "root = TreeNode(5)\n",
    "root.left = TreeNode(3, TreeNode(2), TreeNode(4))\n",
    "root.right = TreeNode(6)\n",
    "\n",
    "k = 3\n",
    "print(\"K-th Smallest:\", kth_smallest(root, k)) "
   ]
  },
  {
   "cell_type": "code",
   "execution_count": 6,
   "id": "e6ede3f0-45ab-4468-a2de-6e7f1dd9fd7b",
   "metadata": {},
   "outputs": [
    {
     "name": "stdout",
     "output_type": "stream",
     "text": [
      "Max Subarray Product: 6\n"
     ]
    }
   ],
   "source": [
    "def max_product(nums):\n",
    "    if not nums:\n",
    "        return 0\n",
    "\n",
    "    max_prod = min_prod = result = nums[0]\n",
    "    for num in nums[1:]:\n",
    "        if num < 0:\n",
    "            max_prod, min_prod = min_prod, max_prod\n",
    "        max_prod = max(num, max_prod * num)\n",
    "        min_prod = min(num, min_prod * num)\n",
    "        result = max(result, max_prod)\n",
    "    return result\n",
    "\n",
    "nums = [2, 3, -2, 4]\n",
    "print(\"Max Subarray Product:\", max_product(nums)) "
   ]
  },
  {
   "cell_type": "code",
   "execution_count": 7,
   "id": "cb6c7091-4ccd-42dd-a996-e9555118e62e",
   "metadata": {},
   "outputs": [
    {
     "name": "stdout",
     "output_type": "stream",
     "text": [
      "All Paths: [['A', 'B', 'C', 'D'], ['A', 'B', 'D'], ['A', 'C', 'D']]\n"
     ]
    }
   ],
   "source": [
    "def find_all_paths(graph, start, end, path=[]):\n",
    "    path = path + [start]\n",
    "    if start == end:\n",
    "        return [path]\n",
    "    if start not in graph:\n",
    "        return []\n",
    "    paths = []\n",
    "    for node in graph[start]:\n",
    "        if node not in path:\n",
    "            newpaths = find_all_paths(graph, node, end, path)\n",
    "            for p in newpaths:\n",
    "                paths.append(p)\n",
    "    return paths\n",
    "\n",
    "graph = {\n",
    "    'A': ['B', 'C'],\n",
    "    'B': ['C', 'D'],\n",
    "    'C': ['D'],\n",
    "    'D': []\n",
    "}\n",
    "start = 'A'\n",
    "end = 'D'\n",
    "print(\"All Paths:\", find_all_paths(graph, start, end))\n"
   ]
  },
  {
   "cell_type": "code",
   "execution_count": 9,
   "id": "7fd07f5d-a061-438a-b677-22f5dc5d0276",
   "metadata": {},
   "outputs": [
    {
     "name": "stdout",
     "output_type": "stream",
     "text": [
      "Serialized: {name:\"John\", age:30, address:{city:\"Chennai\", zip:600001}}\n",
      "Deserialized: {'name': 'John', 'age': 30, 'address': {'city': 'Chennai', 'zip': 600001}}\n",
      "Is Valid: True\n"
     ]
    }
   ],
   "source": [
    "class CustomSerializer:\n",
    "    def serialize(self, data):\n",
    "        if isinstance(data, dict):\n",
    "            items = []\n",
    "            for key, value in data.items():\n",
    "                items.append(f\"{key}:{self.serialize(value)}\")\n",
    "            return '{' + ', '.join(items) + '}'\n",
    "        elif isinstance(data, list):\n",
    "            return '[' + ', '.join(self.serialize(item) for item in data) + ']'\n",
    "        elif isinstance(data, str):\n",
    "            return f'\"{data}\"'\n",
    "        else:\n",
    "            return str(data)\n",
    "\n",
    "    def deserialize(self, s):\n",
    "        def parse_value(tokens):\n",
    "            token = tokens.pop(0)\n",
    "            if token == '{':\n",
    "                obj = {}\n",
    "                while tokens[0] != '}':\n",
    "                    key = tokens.pop(0)\n",
    "                    tokens.pop(0)  # colon\n",
    "                    value = parse_value(tokens)\n",
    "                    obj[key] = value\n",
    "                    if tokens[0] == ',':\n",
    "                        tokens.pop(0)\n",
    "                tokens.pop(0)  # closing brace\n",
    "                return obj\n",
    "            elif token == '[':\n",
    "                lst = []\n",
    "                while tokens[0] != ']':\n",
    "                    lst.append(parse_value(tokens))\n",
    "                    if tokens[0] == ',':\n",
    "                        tokens.pop(0)\n",
    "                tokens.pop(0)  # closing bracket\n",
    "                return lst\n",
    "            elif token.startswith('\"'):\n",
    "                return token.strip('\"')\n",
    "            elif token.isdigit():\n",
    "                return int(token)\n",
    "            else:\n",
    "                return token\n",
    "\n",
    "        def tokenize(s):\n",
    "            tokens = []\n",
    "            token = ''\n",
    "            in_string = False\n",
    "            for char in s:\n",
    "                if char == '\"':\n",
    "                    in_string = not in_string\n",
    "                    token += char\n",
    "                elif char in '{}[],:':\n",
    "                    if token.strip():\n",
    "                        tokens.append(token.strip())\n",
    "                        token = ''\n",
    "                    tokens.append(char)\n",
    "                elif char == ' ' and not in_string:\n",
    "                    continue\n",
    "                else:\n",
    "                    token += char\n",
    "            if token.strip():\n",
    "                tokens.append(token.strip())\n",
    "            return tokens\n",
    "\n",
    "        tokens = tokenize(s)\n",
    "        return parse_value(tokens)\n",
    "\n",
    "    def validate_schema(self, data, schema):\n",
    "        if not isinstance(data, dict) or not isinstance(schema, dict):\n",
    "            return False\n",
    "        for key, expected_type in schema.items():\n",
    "            if key not in data:\n",
    "                print(f\"Missing key: {key}\")\n",
    "                return False\n",
    "            value = data[key]\n",
    "            if expected_type == 'int' and not isinstance(value, int):\n",
    "                print(f\"Key '{key}' should be int but got {type(value).__name__}\")\n",
    "                return False\n",
    "            elif expected_type == 'str' and not isinstance(value, str):\n",
    "                print(f\"Key '{key}' should be str but got {type(value).__name__}\")\n",
    "                return False\n",
    "            elif expected_type == 'dict' and not isinstance(value, dict):\n",
    "                print(f\"Key '{key}' should be dict but got {type(value).__name__}\")\n",
    "                return False\n",
    "            elif isinstance(expected_type, dict):\n",
    "                if not self.validate_schema(value, expected_type):\n",
    "                    return False\n",
    "        return True\n",
    "\n",
    "tool = CustomSerializer()\n",
    "\n",
    "# Sample data\n",
    "data = {\n",
    "    'name': \"John\",\n",
    "    'age': 30,\n",
    "    'address': {\n",
    "        'city': \"Chennai\",\n",
    "        'zip': 600001\n",
    "    }\n",
    "}\n",
    "\n",
    "# Serialize\n",
    "serialized = tool.serialize(data)\n",
    "print(\"Serialized:\", serialized)\n",
    "\n",
    "# Deserialize\n",
    "deserialized = tool.deserialize(serialized)\n",
    "print(\"Deserialized:\", deserialized)\n",
    "\n",
    "# Schema Validation\n",
    "schema = {\n",
    "    'name': 'str',\n",
    "    'age': 'int',\n",
    "    'address': {\n",
    "        'city': 'str',\n",
    "        'zip': 'int'\n",
    "    }\n",
    "}\n",
    "print(\"Is Valid:\", tool.validate_schema(deserialized, schema))\n"
   ]
  },
  {
   "cell_type": "code",
   "execution_count": null,
   "id": "3badfdf1-78f1-4ea2-b8ee-044f0b8574e1",
   "metadata": {},
   "outputs": [],
   "source": []
  }
 ],
 "metadata": {
  "kernelspec": {
   "display_name": "Python 3 (ipykernel)",
   "language": "python",
   "name": "python3"
  },
  "language_info": {
   "codemirror_mode": {
    "name": "ipython",
    "version": 3
   },
   "file_extension": ".py",
   "mimetype": "text/x-python",
   "name": "python",
   "nbconvert_exporter": "python",
   "pygments_lexer": "ipython3",
   "version": "3.13.3"
  }
 },
 "nbformat": 4,
 "nbformat_minor": 5
}
