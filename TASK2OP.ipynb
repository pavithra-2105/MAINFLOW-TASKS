{
 "cells": [
  {
   "cell_type": "code",
   "execution_count": 1,
   "id": "a12d68dc-819e-4548-b479-bdfd0141a0cf",
   "metadata": {},
   "outputs": [
    {
     "name": "stdout",
     "output_type": "stream",
     "text": [
      "Enter a number:  12345\n"
     ]
    },
    {
     "name": "stdout",
     "output_type": "stream",
     "text": [
      "15\n"
     ]
    }
   ],
   "source": [
    "def sum_of_digits(n):\n",
    "    return sum(int(digit) for digit in str(abs(n))) \n",
    "n = int(input(\"Enter a number: \"))\n",
    "print(sum_of_digits(n))\n"
   ]
  },
  {
   "cell_type": "code",
   "execution_count": 2,
   "id": "75191e1b-cde1-4961-8421-ad269dd54765",
   "metadata": {},
   "outputs": [
    {
     "name": "stdout",
     "output_type": "stream",
     "text": [
      "Enter a number:  17\n"
     ]
    },
    {
     "name": "stdout",
     "output_type": "stream",
     "text": [
      "True\n"
     ]
    }
   ],
   "source": [
    "import math\n",
    "def is_prime(n):\n",
    "    if n <= 1:\n",
    "        return False \n",
    "    if n == 2:\n",
    "        return True   \n",
    "    if n % 2 == 0:\n",
    "        return False  \n",
    "\n",
    "    for i in range(3, int(math.sqrt(n)) + 1, 2):  \n",
    "        if n % i == 0:\n",
    "            return False\n",
    "    return True\n",
    "n = int(input(\"Enter a number: \"))\n",
    "print(is_prime(n))\n"
   ]
  },
  {
   "cell_type": "code",
   "execution_count": 3,
   "id": "8a605dd9-ca0f-449d-a990-ced65f0a4856",
   "metadata": {},
   "outputs": [
    {
     "name": "stdout",
     "output_type": "stream",
     "text": [
      "Enter first number:  12\n",
      "Enter second number:  18\n"
     ]
    },
    {
     "name": "stdout",
     "output_type": "stream",
     "text": [
      "GCD of 12 and 18 is 6\n",
      "LCM of 12 and 18 is 36\n"
     ]
    }
   ],
   "source": [
    "import math\n",
    "def gcd_lcm(a, b):\n",
    "    gcd = math.gcd(a, b)\n",
    "    lcm = abs(a * b) // gcd  \n",
    "    return lcm, gcd\n",
    "a = int(input(\"Enter first number: \"))\n",
    "b = int(input(\"Enter second number: \"))\n",
    "lcm, gcd = gcd_lcm(a, b)\n",
    "print(f\"GCD of {a} and {b} is {gcd}\")\n",
    "print(f\"LCM of {a} and {b} is {lcm}\")\n"
   ]
  },
  {
   "cell_type": "code",
   "execution_count": 4,
   "id": "7fd4778b-1972-4d9c-84ea-9aaa75033433",
   "metadata": {},
   "outputs": [
    {
     "name": "stdout",
     "output_type": "stream",
     "text": [
      "[5, 4, 3, 2, 1]\n"
     ]
    }
   ],
   "source": [
    "def reverse_list(lst):\n",
    "    for i in range(len(lst) // 2):\n",
    "        lst[i], lst[-i - 1] = lst[-i - 1], lst[i]\n",
    "    return lst\n",
    "lst = [1, 2, 3, 4, 5]\n",
    "print(reverse_list(lst))\n"
   ]
  },
  {
   "cell_type": "code",
   "execution_count": 5,
   "id": "dc14b286-6ed0-4615-a4e2-b284c894bd02",
   "metadata": {},
   "outputs": [
    {
     "name": "stdout",
     "output_type": "stream",
     "text": [
      "[1, 2, 3, 5, 9]\n"
     ]
    }
   ],
   "source": [
    "def sort_list(lst):\n",
    "    for i in range(len(lst)):\n",
    "        for j in range(i + 1, len(lst)):\n",
    "            if lst[i] > lst[j]:\n",
    "                lst[i], lst[j] = lst[j], lst[i]\n",
    "    return lst\n",
    "lst = [5, 2, 9, 1, 3]\n",
    "print(sort_list(lst))\n"
   ]
  },
  {
   "cell_type": "code",
   "execution_count": 6,
   "id": "3d12345e-e817-44be-b20c-793d5f4fa3cc",
   "metadata": {},
   "outputs": [
    {
     "name": "stdout",
     "output_type": "stream",
     "text": [
      "Original list: [1, 2, 2, 3, 4, 4, 5]\n",
      "List after removing duplicates: [1, 2, 3, 4, 5]\n"
     ]
    }
   ],
   "source": [
    "def remove_duplicates(input_list):\n",
    "    return list(set(input_list))\n",
    "if __name__ == \"__main__\":\n",
    "    sample_list = [1, 2, 2, 3, 4, 4, 5]\n",
    "    result = remove_duplicates(sample_list)\n",
    "    print(\"Original list:\", sample_list)\n",
    "    print(\"List after removing duplicates:\", result)"
   ]
  },
  {
   "cell_type": "code",
   "execution_count": 7,
   "id": "161e5729-696f-41e2-8379-092309360752",
   "metadata": {},
   "outputs": [
    {
     "name": "stdout",
     "output_type": "stream",
     "text": [
      "String: 'Hello, World!'\n",
      "Length: 13\n"
     ]
    }
   ],
   "source": [
    "def string_length(input_string):\n",
    "    \"\"\"Calculate the length of a string without using len().\"\"\"\n",
    "    count = 0\n",
    "    for char in input_string:\n",
    "        count += 1\n",
    "    return count\n",
    "if __name__ == \"__main__\":\n",
    "    test_string = \"Hello, World!\"\n",
    "    result = string_length(test_string)\n",
    "    print(f\"String: '{test_string}'\")\n",
    "    print(f\"Length: {result}\")"
   ]
  },
  {
   "cell_type": "code",
   "execution_count": 8,
   "id": "bd2aa9e9-928d-40fc-bf3e-c2e4ee2e89b4",
   "metadata": {},
   "outputs": [
    {
     "name": "stdout",
     "output_type": "stream",
     "text": [
      "String: 'main flow services and technologies'\n",
      "Vowels: 12, Consonants: 19\n"
     ]
    }
   ],
   "source": [
    "def count_vowels_consonants(input_string):\n",
    "    \"\"\"Count vowels and consonants in a string.\"\"\"\n",
    "    vowels = {'a', 'e', 'i', 'o', 'u'}\n",
    "    vowel_count = 0\n",
    "    consonant_count = 0\n",
    "    \n",
    "    for char in input_string.lower():\n",
    "        if char in vowels:\n",
    "            vowel_count += 1\n",
    "        elif char.isalpha():  \n",
    "            consonant_count += 1\n",
    "    return vowel_count, consonant_count\n",
    "if __name__ == \"__main__\":\n",
    "    test_string = \"main flow services and technologies\"\n",
    "    vowels, consonants = count_vowels_consonants(test_string)\n",
    "    print(f\"String: '{test_string}'\")\n",
    "    print(f\"Vowels: {vowels}, Consonants: {consonants}\")"
   ]
  },
  {
   "cell_type": "code",
   "execution_count": 10,
   "id": "e01925b4-2308-4cfd-bc06-c44f9a8abf3b",
   "metadata": {},
   "outputs": [
    {
     "name": "stdout",
     "output_type": "stream",
     "text": [
      "Generated Maze:\n",
      "###############\n",
      "  #           #\n",
      "# # ### ##### #\n",
      "#   #   #   # #\n",
      "##### ##### # #\n",
      "#     #   #   #\n",
      "# # ### # #####\n",
      "# # #   # #   #\n",
      "# ####### # # #\n",
      "#       #   # #\n",
      "# ### ####### #\n",
      "# # # #     # #\n",
      "# # # # # ### #\n",
      "#   #   #      \n",
      "###############\n",
      "\n",
      "Solved Maze:\n",
      "###############\n",
      "**#*****      #\n",
      "#*#*###*##### #\n",
      "#***#***#   # #\n",
      "#####*##### # #\n",
      "#*****#   #   #\n",
      "#*# ### # #####\n",
      "#*# #   # #   #\n",
      "#*####### # # #\n",
      "#*****  #   # #\n",
      "# ###*####### #\n",
      "# # #*#***  # #\n",
      "# # #*#*#*### #\n",
      "#   #***#******\n",
      "###############\n"
     ]
    }
   ],
   "source": [
    "import random\n",
    "from collections import deque\n",
    "\n",
    "class Maze:\n",
    "    def __init__(self, width=21, height=21):\n",
    "        self.width = width if width % 2 else width + 1\n",
    "        self.height = height if height % 2 else height + 1\n",
    "        self.grid = [[1 for _ in range(self.width)] for _ in range(self.height)]\n",
    "        self.solution = []\n",
    "\n",
    "    def generate(self):\n",
    "        stack = [(random.randrange(1, self.height, 2), random.randrange(1, self.width, 2))]\n",
    "        while stack:\n",
    "            x, y = stack[-1]\n",
    "            self.grid[x][y] = 0\n",
    "            neighbors = []\n",
    "            for dx, dy in [(0, 2), (2, 0), (0, -2), (-2, 0)]:\n",
    "                nx, ny = x + dx, y + dy\n",
    "                if 0 < nx < self.height and 0 < ny < self.width and self.grid[nx][ny] == 1:\n",
    "                    neighbors.append((nx, ny))\n",
    "            if neighbors:\n",
    "                nx, ny = random.choice(neighbors)\n",
    "                self.grid[x + (nx - x)//2][y + (ny - y)//2] = 0\n",
    "                stack.append((nx, ny))\n",
    "            else:\n",
    "                stack.pop()\n",
    "        self.grid[1][0] = 0\n",
    "        self.grid[self.height-2][self.width-1] = 0\n",
    "\n",
    "    def solve(self):\n",
    "        start = (1, 0)\n",
    "        end = (self.height-2, self.width-1)\n",
    "        queue = deque([(start, [start])])\n",
    "        visited = set([start])\n",
    "        while queue:\n",
    "            (x, y), path = queue.popleft()\n",
    "            if (x, y) == end:\n",
    "                self.solution = path\n",
    "                return True\n",
    "            for dx, dy in [(0, 1), (1, 0), (0, -1), (-1, 0)]:\n",
    "                nx, ny = x + dx, y + dy\n",
    "                if 0 <= nx < self.height and 0 <= ny < self.width and self.grid[nx][ny] == 0 and (nx, ny) not in visited:\n",
    "                    visited.add((nx, ny))\n",
    "                    queue.append(((nx, ny), path + [(nx, ny)]))\n",
    "        return False\n",
    "\n",
    "    def display(self, show_solution=False):\n",
    "        for i in range(self.height):\n",
    "            for j in range(self.width):\n",
    "                if show_solution and (i, j) in self.solution:\n",
    "                    print('*', end='')\n",
    "                elif self.grid[i][j] == 1:\n",
    "                    print('#', end='')\n",
    "                else:\n",
    "                    print(' ', end='')\n",
    "            print()\n",
    "\n",
    "if __name__ == \"__main__\":\n",
    "    maze = Maze(15, 15)\n",
    "    maze.generate()\n",
    "    print(\"Generated Maze:\")\n",
    "    maze.display()\n",
    "    \n",
    "    if maze.solve():\n",
    "        print(\"\\nSolved Maze:\")\n",
    "        maze.display(show_solution=True)\n",
    "    else:\n",
    "        print(\"\\nNo solution exists!\")"
   ]
  },
  {
   "cell_type": "code",
   "execution_count": null,
   "id": "7580df9b-ef28-4cd6-9556-c84ed85a4d92",
   "metadata": {},
   "outputs": [],
   "source": []
  }
 ],
 "metadata": {
  "kernelspec": {
   "display_name": "Python 3 (ipykernel)",
   "language": "python",
   "name": "python3"
  },
  "language_info": {
   "codemirror_mode": {
    "name": "ipython",
    "version": 3
   },
   "file_extension": ".py",
   "mimetype": "text/x-python",
   "name": "python",
   "nbconvert_exporter": "python",
   "pygments_lexer": "ipython3",
   "version": "3.13.3"
  }
 },
 "nbformat": 4,
 "nbformat_minor": 5
}
