{
 "cells": [
  {
   "cell_type": "code",
   "execution_count": 1,
   "id": "85280015-e6aa-4cbc-884b-216a06cdbec1",
   "metadata": {},
   "outputs": [
    {
     "name": "stdout",
     "output_type": "stream",
     "text": [
      "True\n"
     ]
    }
   ],
   "source": [
    "def is_valid_sudoku(board):\n",
    "    for row in board:\n",
    "        seen = set()\n",
    "        for num in row:\n",
    "            if num != 0 and num in seen:\n",
    "                return False\n",
    "            seen.add(num)\n",
    "    \n",
    "    for col in range(9):\n",
    "        seen = set()\n",
    "        for row in range(9):\n",
    "            num = board[row][col]\n",
    "            if num != 0 and num in seen:\n",
    "                return False\n",
    "            seen.add(num)\n",
    "    \n",
    "    for box_row in range(0, 9, 3):\n",
    "        for box_col in range(0, 9, 3):\n",
    "            seen = set()\n",
    "            for row in range(box_row, box_row + 3):\n",
    "                for col in range(box_col, box_col + 3):\n",
    "                    num = board[row][col]\n",
    "                    if num != 0 and num in seen:\n",
    "                        return False\n",
    "                    seen.add(num)\n",
    "    \n",
    "    return True\n",
    "\n",
    "board = [\n",
    "    [5, 3, 0, 0, 7, 0, 0, 0, 0],\n",
    "    [6, 0, 0, 1, 9, 5, 0, 0, 0],\n",
    "    [0, 9, 8, 0, 0, 0, 0, 6, 0],\n",
    "    [8, 0, 0, 0, 6, 0, 0, 0, 3],\n",
    "    [4, 0, 0, 8, 0, 3, 0, 0, 1],\n",
    "    [7, 0, 0, 0, 2, 0, 0, 0, 6],\n",
    "    [0, 6, 0, 0, 0, 0, 2, 8, 0],\n",
    "    [0, 0, 0, 4, 1, 9, 0, 0, 5],\n",
    "    [0, 0, 0, 0, 8, 0, 0, 7, 9]\n",
    "]\n",
    "\n",
    "print(is_valid_sudoku(board)) "
   ]
  },
  {
   "cell_type": "code",
   "execution_count": 3,
   "id": "5d82da78-3073-47c8-b534-b6b20d298ba9",
   "metadata": {},
   "outputs": [
    {
     "name": "stdout",
     "output_type": "stream",
     "text": [
      "{'mainflow': 2, 'technologies': 1, 'internship': 1}\n"
     ]
    }
   ],
   "source": [
    "def word_frequency(text):\n",
    "    words = text.split()\n",
    "    freq = {}\n",
    "    for word in words:\n",
    "        freq[word] = freq.get(word, 0) + 1\n",
    "    return freq\n",
    "\n",
    "text = \"mainflow technologies mainflow internship \"\n",
    "print(word_frequency(text)) "
   ]
  },
  {
   "cell_type": "code",
   "execution_count": 4,
   "id": "ac4e2ab1-64ec-4313-b115-d198038bb938",
   "metadata": {},
   "outputs": [
    {
     "name": "stdout",
     "output_type": "stream",
     "text": [
      "55\n"
     ]
    }
   ],
   "source": [
    "def knapsack(weights, values, capacity):\n",
    "    n = len(weights)\n",
    "    dp = [[0] * (capacity + 1) for _ in range(n + 1)]\n",
    "    \n",
    "    for i in range(1, n + 1):\n",
    "        for w in range(1, capacity + 1):\n",
    "            if weights[i-1] <= w:\n",
    "                dp[i][w] = max(values[i-1] + dp[i-1][w - weights[i-1]], dp[i-1][w])\n",
    "            else:\n",
    "                dp[i][w] = dp[i-1][w]\n",
    "    \n",
    "    return dp[n][capacity]\n",
    "\n",
    "weights = [1, 2, 3]\n",
    "values = [10, 15, 40]\n",
    "capacity = 5\n",
    "print(knapsack(weights, values, capacity)) "
   ]
  },
  {
   "cell_type": "code",
   "execution_count": 5,
   "id": "bd9a23aa-0663-49d6-8548-56592e98bd27",
   "metadata": {},
   "outputs": [
    {
     "name": "stdout",
     "output_type": "stream",
     "text": [
      "[[1, 6], [8, 10], [15, 18]]\n"
     ]
    }
   ],
   "source": [
    "def merge_intervals(intervals):\n",
    "    if not intervals:\n",
    "        return []\n",
    "    \n",
    "    intervals.sort(key=lambda x: x[0])\n",
    "    merged = [intervals[0]]\n",
    "    \n",
    "    for current in intervals[1:]:\n",
    "        last = merged[-1]\n",
    "        if current[0] <= last[1]:\n",
    "            last[1] = max(last[1], current[1])\n",
    "        else:\n",
    "            merged.append(current)\n",
    "    \n",
    "    return merged\n",
    "\n",
    "intervals = [[1, 3], [2, 6], [8, 10], [15, 18]]\n",
    "print(merge_intervals(intervals)) "
   ]
  },
  {
   "cell_type": "code",
   "execution_count": 6,
   "id": "bd43b899-d442-47c8-8cc7-e937b598861a",
   "metadata": {},
   "outputs": [
    {
     "name": "stdout",
     "output_type": "stream",
     "text": [
      "2\n"
     ]
    }
   ],
   "source": [
    "def find_median_sorted_arrays(nums1, nums2):\n",
    "    merged = nums1 + nums2\n",
    "    merged.sort()\n",
    "    n = len(merged)\n",
    "    if n % 2 == 1:\n",
    "        return merged[n // 2]\n",
    "    else:\n",
    "        return (merged[n // 2 - 1] + merged[n // 2]) / 2\n",
    "\n",
    "nums1 = [1, 3]\n",
    "nums2 = [2]\n",
    "print(find_median_sorted_arrays(nums1, nums2)) "
   ]
  },
  {
   "cell_type": "code",
   "execution_count": 7,
   "id": "a694c220-16ec-4956-bf43-de9ac5d835c9",
   "metadata": {},
   "outputs": [
    {
     "name": "stdout",
     "output_type": "stream",
     "text": [
      "6\n"
     ]
    }
   ],
   "source": [
    "def maximal_rectangle(matrix):\n",
    "    if not matrix:\n",
    "        return 0\n",
    "    \n",
    "    rows, cols = len(matrix), len(matrix[0])\n",
    "    heights = [0] * cols\n",
    "    max_area = 0\n",
    "    \n",
    "    for row in matrix:\n",
    "        for i in range(cols):\n",
    "            heights[i] = heights[i] + 1 if row[i] == '1' else 0\n",
    "        \n",
    "        stack = []\n",
    "        for i, h in enumerate(heights + [0]):\n",
    "            while stack and heights[stack[-1]] > h:\n",
    "                height = heights[stack.pop()]\n",
    "                width = i if not stack else i - stack[-1] - 1\n",
    "                max_area = max(max_area, height * width)\n",
    "            stack.append(i)\n",
    "    \n",
    "    return max_area\n",
    "\n",
    "matrix = [\n",
    "    [\"1\", \"0\", \"1\", \"0\", \"0\"],\n",
    "    [\"1\", \"0\", \"1\", \"1\", \"1\"],\n",
    "    [\"1\", \"1\", \"1\", \"1\", \"1\"],\n",
    "    [\"1\", \"0\", \"0\", \"1\", \"0\"]\n",
    "]\n",
    "print(maximal_rectangle(matrix)) "
   ]
  },
  {
   "cell_type": "code",
   "execution_count": 8,
   "id": "156a8b89-63b2-4e23-b0f0-e16b7a684aff",
   "metadata": {},
   "outputs": [
    {
     "name": "stdout",
     "output_type": "stream",
     "text": [
      "6\n"
     ]
    }
   ],
   "source": [
    "def max_subarray_sum(nums):\n",
    "    max_current = max_global = nums[0]\n",
    "    for num in nums[1:]:\n",
    "        max_current = max(num, max_current + num)\n",
    "        max_global = max(max_global, max_current)\n",
    "    return max_global\n",
    "\n",
    "nums = [-2, 1, -3, 4, -1, 2, 1, -5, 4]\n",
    "print(max_subarray_sum(nums)) "
   ]
  },
  {
   "cell_type": "code",
   "execution_count": 9,
   "id": "c5fa9ce9-d80a-466b-bb5c-97a074214e0f",
   "metadata": {},
   "outputs": [
    {
     "name": "stdout",
     "output_type": "stream",
     "text": [
      "5\n"
     ]
    }
   ],
   "source": [
    "from collections import deque\n",
    "\n",
    "def word_ladder_length(begin_word, end_word, word_list):\n",
    "    word_set = set(word_list)\n",
    "    if end_word not in word_set:\n",
    "        return 0\n",
    "    \n",
    "    queue = deque([(begin_word, 1)])\n",
    "    \n",
    "    while queue:\n",
    "        word, length = queue.popleft()\n",
    "        if word == end_word:\n",
    "            return length\n",
    "        \n",
    "        for i in range(len(word)):\n",
    "            for c in 'abcdefghijklmnopqrstuvwxyz':\n",
    "                next_word = word[:i] + c + word[i+1:]\n",
    "                if next_word in word_set:\n",
    "                    word_set.remove(next_word)\n",
    "                    queue.append((next_word, length + 1))\n",
    "    \n",
    "    return 0\n",
    "\n",
    "begin_word = \"hit\"\n",
    "end_word = \"cog\"\n",
    "word_list = [\"hot\", \"dot\", \"dog\", \"lot\", \"log\", \"cog\"]\n",
    "print(word_ladder_length(begin_word, end_word, word_list)) "
   ]
  },
  {
   "cell_type": "code",
   "execution_count": null,
   "id": "1897c717-6cb0-4924-9af9-3665f1b475bc",
   "metadata": {},
   "outputs": [
    {
     "name": "stdout",
     "output_type": "stream",
     "text": [
      "🎮 Welcome to the Text-Based RPG Game 🎮\n"
     ]
    },
    {
     "name": "stdout",
     "output_type": "stream",
     "text": [
      "Enter your character's name:  XX\n"
     ]
    },
    {
     "name": "stdout",
     "output_type": "stream",
     "text": [
      "\n",
      "Main Menu:\n",
      "1. Explore\n",
      "2. Show Status\n",
      "3. Save Game\n",
      "4. Exit Game\n"
     ]
    },
    {
     "name": "stdout",
     "output_type": "stream",
     "text": [
      "Choose an option:  1\n"
     ]
    },
    {
     "name": "stdout",
     "output_type": "stream",
     "text": [
      "\n",
      "⚔️ A wild Goblin appears!\n"
     ]
    },
    {
     "name": "stdout",
     "output_type": "stream",
     "text": [
      "Choose action: (1) Attack (2) Run:  1\n"
     ]
    },
    {
     "name": "stdout",
     "output_type": "stream",
     "text": [
      "XX attacks Goblin!\n",
      "Goblin took 7 damage! Remaining HP: 43\n",
      "Goblin attacks XX!\n",
      "XX took 3 damage! Remaining HP: 97\n"
     ]
    },
    {
     "name": "stdout",
     "output_type": "stream",
     "text": [
      "Choose action: (1) Attack (2) Run:  2\n"
     ]
    },
    {
     "name": "stdout",
     "output_type": "stream",
     "text": [
      "You ran away!\n",
      "\n",
      "Main Menu:\n",
      "1. Explore\n",
      "2. Show Status\n",
      "3. Save Game\n",
      "4. Exit Game\n"
     ]
    },
    {
     "name": "stdout",
     "output_type": "stream",
     "text": [
      "Choose an option:  2\n"
     ]
    },
    {
     "name": "stdout",
     "output_type": "stream",
     "text": [
      "Name: XX | HP: 97 | ATK: 10 | DEF: 5\n",
      "Inventory: []\n",
      "\n",
      "Main Menu:\n",
      "1. Explore\n",
      "2. Show Status\n",
      "3. Save Game\n",
      "4. Exit Game\n"
     ]
    }
   ],
   "source": [
    "import random\n",
    "import pickle\n",
    "import os\n",
    "\n",
    "class Character:\n",
    "    def __init__(self, name, health=100, attack=10, defense=5):\n",
    "        self.name = name\n",
    "        self.health = health\n",
    "        self.attack = attack\n",
    "        self.defense = defense\n",
    "        self.inventory = []\n",
    "\n",
    "    def is_alive(self):\n",
    "        return self.health > 0\n",
    "\n",
    "    def take_damage(self, amount):\n",
    "        damage = max(amount - self.defense, 0)\n",
    "        self.health -= damage\n",
    "        print(f\"{self.name} took {damage} damage! Remaining HP: {self.health}\")\n",
    "\n",
    "    def attack_enemy(self, enemy):\n",
    "        print(f\"{self.name} attacks {enemy.name}!\")\n",
    "        enemy.take_damage(self.attack)\n",
    "\n",
    "    def add_item(self, item):\n",
    "        self.inventory.append(item)\n",
    "        print(f\"{self.name} picked up {item}!\")\n",
    "\n",
    "    def show_status(self):\n",
    "        print(f\"Name: {self.name} | HP: {self.health} | ATK: {self.attack} | DEF: {self.defense}\")\n",
    "        print(\"Inventory:\", self.inventory)\n",
    "\n",
    "def save_game(player):\n",
    "    with open(\"rpg_save.pkl\", \"wb\") as f:\n",
    "        pickle.dump(player, f)\n",
    "    print(\"Game saved.\")\n",
    "\n",
    "def load_game():\n",
    "    if os.path.exists(\"rpg_save.pkl\"):\n",
    "        with open(\"rpg_save.pkl\", \"rb\") as f:\n",
    "            player = pickle.load(f)\n",
    "        print(\"Game loaded.\")\n",
    "        return player\n",
    "    else:\n",
    "        print(\"No saved game found.\")\n",
    "        return None\n",
    "\n",
    "def encounter(player):\n",
    "    enemy = Character(\"Goblin\", health=50, attack=8, defense=3)\n",
    "    print(\"\\n⚔️ A wild Goblin appears!\")\n",
    "    while player.is_alive() and enemy.is_alive():\n",
    "        action = input(\"Choose action: (1) Attack (2) Run: \")\n",
    "        if action == '1':\n",
    "            player.attack_enemy(enemy)\n",
    "            if enemy.is_alive():\n",
    "                enemy.attack_enemy(player)\n",
    "        elif action == '2':\n",
    "            print(\"You ran away!\")\n",
    "            return\n",
    "    if player.is_alive():\n",
    "        print(\"🎉 You defeated the enemy!\")\n",
    "        loot = random.choice([\"Potion\", \"Sword\", \"Shield\"])\n",
    "        player.add_item(loot)\n",
    "    else:\n",
    "        print(\"💀 You have been defeated.\")\n",
    "\n",
    "def main():\n",
    "    print(\"🎮 Welcome to the Text-Based RPG Game 🎮\")\n",
    "    player = None\n",
    "\n",
    "    if os.path.exists(\"rpg_save.pkl\"):\n",
    "        load = input(\"Load saved game? (y/n): \")\n",
    "        if load.lower() == 'y':\n",
    "            player = load_game()\n",
    "\n",
    "    if not player:\n",
    "        name = input(\"Enter your character's name: \")\n",
    "        player = Character(name)\n",
    "\n",
    "    while True:\n",
    "        print(\"\\nMain Menu:\")\n",
    "        print(\"1. Explore\")\n",
    "        print(\"2. Show Status\")\n",
    "        print(\"3. Save Game\")\n",
    "        print(\"4. Exit Game\")\n",
    "        choice = input(\"Choose an option: \")\n",
    "\n",
    "        if choice == '1':\n",
    "            encounter(player)\n",
    "        elif choice == '2':\n",
    "            player.show_status()\n",
    "        elif choice == '3':\n",
    "            save_game(player)\n",
    "        elif choice == '4':\n",
    "            print(\"👋 Goodbye! Your progress is saved.\")\n",
    "            save_game(player)\n",
    "            break\n",
    "        else:\n",
    "            print(\"Invalid option. Try again.\")\n",
    "\n",
    "main()"
   ]
  },
  {
   "cell_type": "code",
   "execution_count": null,
   "id": "2fb8f330-5992-4c42-8d92-4c22702a6a36",
   "metadata": {},
   "outputs": [],
   "source": []
  }
 ],
 "metadata": {
  "kernelspec": {
   "display_name": "Python 3 (ipykernel)",
   "language": "python",
   "name": "python3"
  },
  "language_info": {
   "codemirror_mode": {
    "name": "ipython",
    "version": 3
   },
   "file_extension": ".py",
   "mimetype": "text/x-python",
   "name": "python",
   "nbconvert_exporter": "python",
   "pygments_lexer": "ipython3",
   "version": "3.13.3"
  }
 },
 "nbformat": 4,
 "nbformat_minor": 5
}
