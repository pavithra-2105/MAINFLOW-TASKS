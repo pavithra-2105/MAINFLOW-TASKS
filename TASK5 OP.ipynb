{
 "cells": [
  {
   "cell_type": "code",
   "execution_count": 7,
   "id": "6709b641-a8ac-4632-be49-2c9f8706fcb4",
   "metadata": {},
   "outputs": [
    {
     "name": "stdout",
     "output_type": "stream",
     "text": [
      "All permutations of 'hey':\n",
      "hey\n",
      "hye\n",
      "ehy\n",
      "eyh\n",
      "yhe\n",
      "yeh\n"
     ]
    }
   ],
   "source": [
    "from itertools import permutations\n",
    "\n",
    "def get_permutations_itertools(input_str):\n",
    "    perms = [''.join(p) for p in permutations(input_str)]\n",
    "    return perms\n",
    "\n",
    "input_string = \"hey\"\n",
    "print(f\"All permutations of '{input_string}':\")\n",
    "for perm in get_permutations_itertools(input_string):\n",
    "    print(perm) "
   ]
  },
  {
   "cell_type": "code",
   "execution_count": 11,
   "id": "c6d0bd5c-64f3-4751-8d77-7a83bb23f8b0",
   "metadata": {},
   "outputs": [
    {
     "name": "stdout",
     "output_type": "stream",
     "text": [
      "The 10-th Fibonacci number is: 55\n"
     ]
    }
   ],
   "source": [
    "def fibonacci(n):\n",
    "    if n <= 1:\n",
    "        return n\n",
    "    \n",
    "    a, b = 0, 1\n",
    "    \n",
    "    for _ in range(2, n + 1):\n",
    "        c = a + b\n",
    "        a, b = b, c\n",
    "    return b\n",
    "\n",
    "n = 10\n",
    "print(f\"The {n}-th Fibonacci number is: {fibonacci(n)}\")"
   ]
  },
  {
   "cell_type": "code",
   "execution_count": 1,
   "id": "385841d0-c195-46c8-b2a9-b6fa6536ac20",
   "metadata": {},
   "outputs": [
    {
     "name": "stdout",
     "output_type": "stream",
     "text": [
      "[3, 4]\n"
     ]
    }
   ],
   "source": [
    "from collections import Counter\n",
    "\n",
    "def find_duplicates(lst):\n",
    "    counter = Counter(lst)\n",
    "    return [item for item, count in counter.items() if count > 1]\n",
    "\n",
    "print(find_duplicates([8, 3, 7, 3, 4, 4, 5]))"
   ]
  },
  {
   "cell_type": "code",
   "execution_count": 2,
   "id": "52161c65-5f5b-471b-86b5-3c5cde0e33a7",
   "metadata": {},
   "outputs": [
    {
     "name": "stdout",
     "output_type": "stream",
     "text": [
      "4\n"
     ]
    }
   ],
   "source": [
    "def length_of_lis(nums):\n",
    "    if not nums:\n",
    "        return 0\n",
    "    dp = [1] * len(nums)\n",
    "    for i in range(len(nums)):\n",
    "        for j in range(i):\n",
    "            if nums[i] > nums[j]:\n",
    "                dp[i] = max(dp[i], dp[j] + 1)\n",
    "    return max(dp)\n",
    "\n",
    "print(length_of_lis([10, 9, 2, 5, 3, 7, 101, 18]))"
   ]
  },
  {
   "cell_type": "code",
   "execution_count": 4,
   "id": "e78866b6-948a-443c-a761-5192aadb7323",
   "metadata": {},
   "outputs": [
    {
     "name": "stdout",
     "output_type": "stream",
     "text": [
      "[8, 6, 4]\n"
     ]
    }
   ],
   "source": [
    "import heapq\n",
    "\n",
    "def k_largest_elements(lst, k):\n",
    "    return heapq.nlargest(k, lst)\n",
    "\n",
    "print(k_largest_elements([4, 1, 6, 3, 8, 2], 3))"
   ]
  },
  {
   "cell_type": "code",
   "execution_count": 5,
   "id": "c7d5258d-f160-4e5d-adce-b1a2793f4ef0",
   "metadata": {},
   "outputs": [
    {
     "name": "stdout",
     "output_type": "stream",
     "text": [
      "[7, 4, 1]\n",
      "[8, 5, 2]\n",
      "[9, 6, 3]\n"
     ]
    }
   ],
   "source": [
    "def rotate_matrix(matrix):\n",
    "    n = len(matrix)\n",
    "    # Transpose\n",
    "    for i in range(n):\n",
    "        for j in range(i, n):\n",
    "            matrix[i][j], matrix[j][i] = matrix[j][i], matrix[i][j]\n",
    "    # Reverse each row\n",
    "    for row in matrix:\n",
    "        row.reverse()\n",
    "    return matrix\n",
    "\n",
    "mat = [\n",
    "    [1, 2, 3],\n",
    "    [4, 5, 6],\n",
    "    [7, 8, 9]\n",
    "]\n",
    "rotated = rotate_matrix(mat)\n",
    "for row in rotated:\n",
    "    print(row) "
   ]
  },
  {
   "cell_type": "code",
   "execution_count": 6,
   "id": "b94d6247-fd31-4a95-a03d-29c9870c0675",
   "metadata": {},
   "outputs": [
    {
     "name": "stdout",
     "output_type": "stream",
     "text": [
      "True\n"
     ]
    }
   ],
   "source": [
    "def is_valid_sudoku(board):\n",
    "    def is_valid_block(block):\n",
    "        nums = [x for x in block if x != \".\"]\n",
    "        return len(nums) == len(set(nums))\n",
    "\n",
    "    for row in board:\n",
    "        if not is_valid_block(row):\n",
    "            return False\n",
    "\n",
    "    for col in zip(*board):\n",
    "        if not is_valid_block(col):\n",
    "            return False\n",
    "\n",
    "    for i in range(0, 9, 3):\n",
    "        for j in range(0, 9, 3):\n",
    "            block = [board[x][y] for x in range(i, i+3) for y in range(j, j+3)]\n",
    "            if not is_valid_block(block):\n",
    "                return False\n",
    "\n",
    "    return True\n",
    "\n",
    "sudoku_board = [\n",
    "    [\"5\", \"3\", \".\", \".\", \"7\", \".\", \".\", \".\", \".\"],\n",
    "    [\"6\", \".\", \".\", \"1\", \"9\", \"5\", \".\", \".\", \".\"],\n",
    "    [\".\", \"9\", \"8\", \".\", \".\", \".\", \".\", \"6\", \".\"],\n",
    "    [\"8\", \".\", \".\", \".\", \"6\", \".\", \".\", \".\", \"3\"],\n",
    "    [\"4\", \".\", \".\", \"8\", \".\", \"3\", \".\", \".\", \"1\"],\n",
    "    [\"7\", \".\", \".\", \".\", \"2\", \".\", \".\", \".\", \"6\"],\n",
    "    [\".\", \"6\", \".\", \".\", \".\", \".\", \"2\", \"8\", \".\"],\n",
    "    [\".\", \".\", \".\", \"4\", \"1\", \"9\", \".\", \".\", \"5\"],\n",
    "    [\".\", \".\", \".\", \".\", \"8\", \".\", \".\", \"7\", \"9\"]\n",
    "]\n",
    "print(is_valid_sudoku(sudoku_board)) "
   ]
  },
  {
   "cell_type": "code",
   "execution_count": null,
   "id": "a5b00593-e01e-4eeb-bcf8-f9503364e949",
   "metadata": {},
   "outputs": [
    {
     "name": "stdout",
     "output_type": "stream",
     "text": [
      "\n",
      "📈 Virtual Stock Market Simulator 📉\n",
      "1. View Stock Prices\n",
      "2. Buy Stock\n",
      "3. Sell Stock\n",
      "4. View Portfolio\n",
      "5. View Transaction History\n",
      "6. Exit\n"
     ]
    },
    {
     "name": "stdout",
     "output_type": "stream",
     "text": [
      "Enter your choice:  1\n"
     ]
    },
    {
     "name": "stdout",
     "output_type": "stream",
     "text": [
      "\n",
      "📦 Available Stocks:\n",
      "1. TCS - ₹3174.21\n",
      "2. INFY - ₹1379.96\n",
      "3. HDFC - ₹2866.67\n",
      "4. RELIANCE - ₹2581.78\n",
      "\n",
      "📈 Virtual Stock Market Simulator 📉\n",
      "1. View Stock Prices\n",
      "2. Buy Stock\n",
      "3. Sell Stock\n",
      "4. View Portfolio\n",
      "5. View Transaction History\n",
      "6. Exit\n"
     ]
    }
   ],
   "source": [
    "import random\n",
    "\n",
    "class Stock:\n",
    "    def __init__(self, name, price):\n",
    "        self.name = name\n",
    "        self.price = price\n",
    "\n",
    "    def simulate_price_change(self):\n",
    "        change_percent = random.uniform(-0.05, 0.05)  # +/-5% fluctuation\n",
    "        self.price += self.price * change_percent\n",
    "        self.price = round(self.price, 2)\n",
    "\n",
    "class User:\n",
    "    def __init__(self, name, balance=10000):\n",
    "        self.name = name\n",
    "        self.balance = balance\n",
    "        self.portfolio = {}\n",
    "        self.transaction_history = []\n",
    "\n",
    "    def buy_stock(self, stock, quantity):\n",
    "        cost = stock.price * quantity\n",
    "        if self.balance >= cost:\n",
    "            self.balance -= cost\n",
    "            self.portfolio[stock.name] = self.portfolio.get(stock.name, 0) + quantity\n",
    "            self.transaction_history.append(f\"Bought {quantity} shares of {stock.name} at ₹{stock.price}\")\n",
    "            print(\"✅ Purchase successful!\")\n",
    "        else:\n",
    "            print(\"❌ Not enough balance!\")\n",
    "\n",
    "    def sell_stock(self, stock, quantity):\n",
    "        if self.portfolio.get(stock.name, 0) >= quantity:\n",
    "            self.portfolio[stock.name] -= quantity\n",
    "            self.balance += stock.price * quantity\n",
    "            self.transaction_history.append(f\"Sold {quantity} shares of {stock.name} at ₹{stock.price}\")\n",
    "            print(\"✅ Sale successful!\")\n",
    "        else:\n",
    "            print(\"❌ Not enough shares to sell!\")\n",
    "\n",
    "    def view_portfolio(self):\n",
    "        print(f\"\\n📊 {self.name}'s Portfolio:\")\n",
    "        for stock, qty in self.portfolio.items():\n",
    "            if qty > 0:\n",
    "                print(f\" - {stock}: {qty} shares\")\n",
    "        print(f\"💰 Balance: ₹{self.balance:.2f}\\n\")\n",
    "\n",
    "    def view_transaction_history(self):\n",
    "        print(\"\\n📜 Transaction History:\")\n",
    "        for t in self.transaction_history:\n",
    "            print(\" -\", t)\n",
    "        print()\n",
    "\n",
    "# Stock Market Setup\n",
    "stocks = [\n",
    "    Stock(\"TCS\", 3200),\n",
    "    Stock(\"INFY\", 1450),\n",
    "    Stock(\"HDFC\", 2800),\n",
    "    Stock(\"RELIANCE\", 2500),\n",
    "]\n",
    "\n",
    "user = User(name=\"DemoUser\")\n",
    "\n",
    "# Main Menu\n",
    "def main():\n",
    "    while True:\n",
    "        print(\"\\n📈 Virtual Stock Market Simulator 📉\")\n",
    "        print(\"1. View Stock Prices\")\n",
    "        print(\"2. Buy Stock\")\n",
    "        print(\"3. Sell Stock\")\n",
    "        print(\"4. View Portfolio\")\n",
    "        print(\"5. View Transaction History\")\n",
    "        print(\"6. Exit\")\n",
    "\n",
    "        choice = input(\"Enter your choice: \")\n",
    "\n",
    "        # Simulate price changes before each action\n",
    "        for s in stocks:\n",
    "            s.simulate_price_change()\n",
    "\n",
    "        if choice == '1':\n",
    "            print(\"\\n📦 Available Stocks:\")\n",
    "            for i, stock in enumerate(stocks):\n",
    "                print(f\"{i+1}. {stock.name} - ₹{stock.price}\")\n",
    "        elif choice == '2':\n",
    "            for i, stock in enumerate(stocks):\n",
    "                print(f\"{i+1}. {stock.name} - ₹{stock.price}\")\n",
    "            index = int(input(\"Enter stock number to buy: \")) - 1\n",
    "            qty = int(input(\"Enter quantity: \"))\n",
    "            user.buy_stock(stocks[index], qty)\n",
    "        elif choice == '3':\n",
    "            for i, stock in enumerate(stocks):\n",
    "                print(f\"{i+1}. {stock.name} - ₹{stock.price}\")\n",
    "            index = int(input(\"Enter stock number to sell: \")) - 1\n",
    "            qty = int(input(\"Enter quantity: \"))\n",
    "            user.sell_stock(stocks[index], qty)\n",
    "        elif choice == '4':\n",
    "            user.view_portfolio()\n",
    "        elif choice == '5':\n",
    "            user.view_transaction_history()\n",
    "        elif choice == '6':\n",
    "            print(\"👋 Exiting the simulator.\")\n",
    "            break\n",
    "        else:\n",
    "            print(\"❌ Invalid choice, try again.\")\n",
    "\n",
    "# Run the simulator\n",
    "main() "
   ]
  },
  {
   "cell_type": "code",
   "execution_count": null,
   "id": "e31528d2-c8a8-4f51-a459-dd876466b7c1",
   "metadata": {},
   "outputs": [],
   "source": []
  }
 ],
 "metadata": {
  "kernelspec": {
   "display_name": "Python 3 (ipykernel)",
   "language": "python",
   "name": "python3"
  },
  "language_info": {
   "codemirror_mode": {
    "name": "ipython",
    "version": 3
   },
   "file_extension": ".py",
   "mimetype": "text/x-python",
   "name": "python",
   "nbconvert_exporter": "python",
   "pygments_lexer": "ipython3",
   "version": "3.13.3"
  }
 },
 "nbformat": 4,
 "nbformat_minor": 5
}
