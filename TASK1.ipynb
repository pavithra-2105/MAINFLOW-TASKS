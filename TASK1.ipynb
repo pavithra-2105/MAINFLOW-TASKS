{
 "cells": [
  {
   "cell_type": "code",
   "execution_count": 2,
   "id": "e34fb73e-c9a4-4b92-a0d2-a291a5389421",
   "metadata": {},
   "outputs": [
    {
     "name": "stdout",
     "output_type": "stream",
     "text": [
      "the sum of 10 and 20 is 30.\n"
     ]
    }
   ],
   "source": [
    "def sum_of_two_numbers(a, b):\n",
    "    return a + b\n",
    "a, b = 10, 20\n",
    "print(f\"the sum of {a} and {b} is {sum_of_two_numbers(a,b)}.\")"
   ]
  },
  {
   "cell_type": "code",
   "execution_count": 3,
   "id": "5cfc85c7-43ac-4719-88cd-ac91b47142b4",
   "metadata": {},
   "outputs": [
    {
     "name": "stdout",
     "output_type": "stream",
     "text": [
      "the number 9 is ODD.\n"
     ]
    }
   ],
   "source": [
    "def odd_or_even(number):\n",
    "    return \"EVEN\" if number % 2 == 0 else \"ODD\"\n",
    "num=9\n",
    "print(f\"the number {num} is {odd_or_even(num)}.\")"
   ]
  },
  {
   "cell_type": "code",
   "execution_count": 4,
   "id": "a3456248-4e6f-4e3e-88c1-4a2e225d474c",
   "metadata": {},
   "outputs": [
    {
     "name": "stdout",
     "output_type": "stream",
     "text": [
      "the factorial of 7 is 5040.\n"
     ]
    }
   ],
   "source": [
    "def factorial(n):\n",
    "    result = 1 \n",
    "    for i in range(1, n + 1):\n",
    "        result *= i\n",
    "    return result\n",
    "n = 7 \n",
    "print(f\"the factorial of {n} is {factorial(n)}.\")"
   ]
  },
  {
   "cell_type": "code",
   "execution_count": 1,
   "id": "abcdbfcb-aa16-4f3d-8fda-b9b7ea40d546",
   "metadata": {},
   "outputs": [
    {
     "name": "stdout",
     "output_type": "stream",
     "text": [
      "The first 10 Fibonacci numbers are: [0, 1, 1, 2, 3, 5, 8, 13, 21, 34].\n"
     ]
    }
   ],
   "source": [
    "def fibonacci_sequence(n):\n",
    "    sequence = [0, 1]\n",
    "    for i in range(2, n):\n",
    "        sequence.append(sequence[-1] + sequence[-2])\n",
    "    return sequence[:n]\n",
    "\n",
    "n = 10\n",
    "print(f\"The first {n} Fibonacci numbers are: {fibonacci_sequence(n)}.\")\n"
   ]
  },
  {
   "cell_type": "code",
   "execution_count": 11,
   "id": "5ccc4307-78ed-4fef-9582-7e145b347127",
   "metadata": {},
   "outputs": [
    {
     "name": "stdout",
     "output_type": "stream",
     "text": [
      "The reverse of 'belongings' is 'sgnignoleb'.\n"
     ]
    }
   ],
   "source": [
    "def reverse_string(s):\n",
    "    return s[::-1]\n",
    "\n",
    "string = \"belongings\"\n",
    "print(f\"The reverse of '{string}' is '{reverse_string(string)}'.\")\n"
   ]
  },
  {
   "cell_type": "code",
   "execution_count": 13,
   "id": "4388846b-a52e-4cc0-b8c9-06c5f52a8848",
   "metadata": {},
   "outputs": [
    {
     "name": "stdout",
     "output_type": "stream",
     "text": [
      "Is 'services' a palindrome? False.\n"
     ]
    }
   ],
   "source": [
    "def is_palindrome(s):\n",
    "    return s == s[::-1]\n",
    "\n",
    "string = \"services\"\n",
    "print(f\"Is '{string}' a palindrome? {is_palindrome(string)}.\")\n"
   ]
  },
  {
   "cell_type": "code",
   "execution_count": 15,
   "id": "dd1698ea-7357-4a8b-8000-a16a76bc1cb4",
   "metadata": {},
   "outputs": [
    {
     "name": "stdout",
     "output_type": "stream",
     "text": [
      "Is 2027 a leap year? False.\n"
     ]
    }
   ],
   "source": [
    "def is_leap_year(year):\n",
    "    return year % 4 == 0 and (year % 100 != 0 or year % 400 == 0)\n",
    "\n",
    "year = 2027\n",
    "print(f\"Is {year} a leap year? {is_leap_year(year)}.\")\n"
   ]
  },
  {
   "cell_type": "code",
   "execution_count": 17,
   "id": "8d4bc337-5661-48e1-8798-07e3101d429d",
   "metadata": {},
   "outputs": [
    {
     "name": "stdout",
     "output_type": "stream",
     "text": [
      "Is 283 an Armstring number? False.\n"
     ]
    }
   ],
   "source": [
    "def is_armstrong_number(n):\n",
    "    digits = str(n)\n",
    "    return n == sum(int(d) ** len(digits) for d in digits)\n",
    "num = 283\n",
    "print(f\"Is {num} an Armstring number? {is_armstrong_number(num)}.\")"
   ]
  },
  {
   "cell_type": "code",
   "execution_count": 26,
   "id": "06b088f0-3cd9-4073-aaf0-cce0283b7b2b",
   "metadata": {},
   "outputs": [
    {
     "name": "stdout",
     "output_type": "stream",
     "text": [
      "Original: Hello World!\n",
      "Encrypted: Khoor Zruog!\n",
      "Decrypted: Hello World!\n"
     ]
    }
   ],
   "source": [
    "def encrypt(text, shift):\n",
    "    encrypted_text = \"\" \n",
    "    for char in text:\n",
    "        if char.isalpha():\n",
    "            shift_base = 65 if char.isupper() else 97\n",
    "            encrypted_text += chr((ord(char) - shift_base + shift) % 26 + shift_base)\n",
    "        else:\n",
    "            encrypted_text += char\n",
    "    return encrypted_text  # moved out of the loop\n",
    "\n",
    "def decrypt(encrypted_text, shift):\n",
    "    return encrypt(encrypted_text, -shift)\n",
    "\n",
    "message = \"Hello World!\"\n",
    "shift_key = 3\n",
    "\n",
    "encrypted_message = encrypt(message, shift_key)\n",
    "decrypted_message = decrypt(encrypted_message, shift_key)\n",
    "\n",
    "print(f\"Original: {message}\")\n",
    "print(f\"Encrypted: {encrypted_message}\")\n",
    "print(f\"Decrypted: {decrypted_message}\")\n"
   ]
  },
  {
   "cell_type": "code",
   "execution_count": null,
   "id": "48602ecb-e590-437b-9279-a051aad7f4ca",
   "metadata": {},
   "outputs": [],
   "source": []
  },
  {
   "cell_type": "code",
   "execution_count": null,
   "id": "04e9959a-330b-4af1-ab57-3df5f818c13e",
   "metadata": {},
   "outputs": [],
   "source": []
  },
  {
   "cell_type": "code",
   "execution_count": null,
   "id": "ff00bae7-662b-462f-bfcb-f5cfb1476ef4",
   "metadata": {},
   "outputs": [],
   "source": []
  }
 ],
 "metadata": {
  "kernelspec": {
   "display_name": "Python 3 (ipykernel)",
   "language": "python",
   "name": "python3"
  },
  "language_info": {
   "codemirror_mode": {
    "name": "ipython",
    "version": 3
   },
   "file_extension": ".py",
   "mimetype": "text/x-python",
   "name": "python",
   "nbconvert_exporter": "python",
   "pygments_lexer": "ipython3",
   "version": "3.13.3"
  }
 },
 "nbformat": 4,
 "nbformat_minor": 5
}
