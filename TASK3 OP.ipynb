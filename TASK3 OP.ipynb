{
 "cells": [
  {
   "cell_type": "code",
   "execution_count": 1,
   "id": "0223cdf3-8a88-4e50-a8b9-a82ee413928c",
   "metadata": {},
   "outputs": [
    {
     "name": "stdout",
     "output_type": "stream",
     "text": [
      "5 x 1 = 5\n",
      "5 x 2 = 10\n",
      "5 x 3 = 15\n",
      "5 x 4 = 20\n",
      "5 x 5 = 25\n",
      "5 x 6 = 30\n",
      "5 x 7 = 35\n",
      "5 x 8 = 40\n",
      "5 x 9 = 45\n",
      "5 x 10 = 50\n"
     ]
    }
   ],
   "source": [
    "def print_table(m):\n",
    "    for i in range(1, 11):\n",
    "        print(f\"{m} x {i} = {m * i}\")\n",
    "\n",
    "print_table(5)  "
   ]
  },
  {
   "cell_type": "code",
   "execution_count": 7,
   "id": "96cd76ac-19a4-4196-8309-ffbcd68d54d3",
   "metadata": {},
   "outputs": [
    {
     "name": "stdout",
     "output_type": "stream",
     "text": [
      "Swapped: a = 7, b = 3\n"
     ]
    }
   ],
   "source": [
    "def swap_numbers(a, b):\n",
    "    a = a + b\n",
    "    b = a - b\n",
    "    a = a - b\n",
    "    return a, b\n",
    "    \n",
    "a, b = 3, 7\n",
    "a, b = swap_numbers(a, b)\n",
    "print(f\"Swapped: a = {a}, b = {b}\") "
   ]
  },
  {
   "cell_type": "code",
   "execution_count": 4,
   "id": "9d066daf-45f5-46e1-b223-4ca59f9e1302",
   "metadata": {},
   "outputs": [
    {
     "name": "stdout",
     "output_type": "stream",
     "text": [
      "True\n"
     ]
    }
   ],
   "source": [
    "def is_substring(s1, s2):\n",
    "    return s2 in s1 \n",
    "\n",
    "s1 = \"main flow technologies\"\n",
    "s2 = \"flow\"\n",
    "print(is_substring(s1, s2))"
   ]
  },
  {
   "cell_type": "code",
   "execution_count": 5,
   "id": "621a90e1-43fd-4572-a79a-b9f93b8010a8",
   "metadata": {},
   "outputs": [
    {
     "name": "stdout",
     "output_type": "stream",
     "text": [
      "1010\n"
     ]
    }
   ],
   "source": [
    "def decimal_to_binary(n):\n",
    "    return bin(n)[2:] \n",
    "\n",
    "print(decimal_to_binary(10)) "
   ]
  },
  {
   "cell_type": "code",
   "execution_count": 9,
   "id": "4efe4d88-3ba4-43d6-abf8-ee446b1c5be1",
   "metadata": {},
   "outputs": [
    {
     "name": "stdout",
     "output_type": "stream",
     "text": [
      "45\n"
     ]
    }
   ],
   "source": [
    "def second_largest(lst):\n",
    "    unique = list(set(lst)) \n",
    "    unique.sort()\n",
    "    return unique[-2] if len(unique) >= 2 else None\n",
    "\n",
    "lst = [10, 20, 4, 45, 99]\n",
    "print(second_largest(lst)) "
   ]
  },
  {
   "cell_type": "code",
   "execution_count": 10,
   "id": "c890946d-ad2b-4859-b20f-bf83c8466125",
   "metadata": {},
   "outputs": [
    {
     "name": "stdout",
     "output_type": "stream",
     "text": [
      "True\n"
     ]
    }
   ],
   "source": [
    "def is_anagram(s1, s2):\n",
    "    return sorted(s1.lower()) == sorted(s2.lower())\n",
    "\n",
    "s1 = \"listen\"\n",
    "s2 = \"silent\"\n",
    "print(is_anagram(s1, s2)) "
   ]
  },
  {
   "cell_type": "code",
   "execution_count": 13,
   "id": "915754ad-6b11-4ab7-832a-1ff79c487352",
   "metadata": {},
   "outputs": [
    {
     "name": "stdout",
     "output_type": "stream",
     "text": [
      "  |   |  \n",
      "---------\n",
      "  |   |  \n",
      "---------\n",
      "  |   |  \n",
      "---------\n"
     ]
    },
    {
     "name": "stdout",
     "output_type": "stream",
     "text": [
      "Enter row and column (0-2):  1 2\n"
     ]
    },
    {
     "name": "stdout",
     "output_type": "stream",
     "text": [
      "  |   |  \n",
      "---------\n",
      "  |   | X\n",
      "---------\n",
      "  |   |  \n",
      "---------\n",
      "AI plays at (0, 2)\n",
      "  |   | O\n",
      "---------\n",
      "  |   | X\n",
      "---------\n",
      "  |   |  \n",
      "---------\n"
     ]
    },
    {
     "name": "stdout",
     "output_type": "stream",
     "text": [
      "Enter row and column (0-2):  2 1\n"
     ]
    },
    {
     "name": "stdout",
     "output_type": "stream",
     "text": [
      "  |   | O\n",
      "---------\n",
      "  |   | X\n",
      "---------\n",
      "  | X |  \n",
      "---------\n",
      "AI plays at (0, 0)\n",
      "O |   | O\n",
      "---------\n",
      "  |   | X\n",
      "---------\n",
      "  | X |  \n",
      "---------\n"
     ]
    },
    {
     "name": "stdout",
     "output_type": "stream",
     "text": [
      "Enter row and column (0-2):  0 1\n"
     ]
    },
    {
     "name": "stdout",
     "output_type": "stream",
     "text": [
      "O | X | O\n",
      "---------\n",
      "  |   | X\n",
      "---------\n",
      "  | X |  \n",
      "---------\n",
      "AI plays at (1, 1)\n",
      "O | X | O\n",
      "---------\n",
      "  | O | X\n",
      "---------\n",
      "  | X |  \n",
      "---------\n"
     ]
    },
    {
     "name": "stdout",
     "output_type": "stream",
     "text": [
      "Enter row and column (0-2):  1 0\n"
     ]
    },
    {
     "name": "stdout",
     "output_type": "stream",
     "text": [
      "O | X | O\n",
      "---------\n",
      "X | O | X\n",
      "---------\n",
      "  | X |  \n",
      "---------\n",
      "AI plays at (2, 0)\n",
      "O | X | O\n",
      "---------\n",
      "X | O | X\n",
      "---------\n",
      "O | X |  \n",
      "---------\n",
      "O wins!\n"
     ]
    }
   ],
   "source": [
    "def print_board(board):\n",
    "    for row in board:\n",
    "        print(\" | \".join(row))\n",
    "        print(\"-\" * 9)\n",
    "\n",
    "def check_winner(board):\n",
    "    # Check rows, columns, and diagonals\n",
    "    lines = [\n",
    "        [board[0][0], board[0][1], board[0][2]],\n",
    "        [board[1][0], board[1][1], board[1][2]],\n",
    "        [board[2][0], board[2][1], board[2][2]],\n",
    "        [board[0][0], board[1][0], board[2][0]],\n",
    "        [board[0][1], board[1][1], board[2][1]],\n",
    "        [board[0][2], board[1][2], board[2][2]],\n",
    "        [board[0][0], board[1][1], board[2][2]],\n",
    "        [board[0][2], board[1][1], board[2][0]],\n",
    "    ]\n",
    "    for line in lines:\n",
    "        if len(set(line)) == 1 and line[0] != \" \":\n",
    "            return line[0]\n",
    "    return None\n",
    "\n",
    "def minimax(board, depth, is_maximizing):\n",
    "    winner = check_winner(board)\n",
    "    if winner == \"X\":\n",
    "        return -10 + depth\n",
    "    elif winner == \"O\":\n",
    "        return 10 - depth\n",
    "    elif \" \" not in [cell for row in board for cell in row]:\n",
    "        return 0\n",
    "\n",
    "    if is_maximizing:\n",
    "        best_score = -float(\"inf\")\n",
    "        for i in range(3):\n",
    "            for j in range(3):\n",
    "                if board[i][j] == \" \":\n",
    "                    board[i][j] = \"O\"\n",
    "                    score = minimax(board, depth + 1, False)\n",
    "                    board[i][j] = \" \"\n",
    "                    best_score = max(score, best_score)\n",
    "        return best_score\n",
    "    else:\n",
    "        best_score = float(\"inf\")\n",
    "        for i in range(3):\n",
    "            for j in range(3):\n",
    "                if board[i][j] == \" \":\n",
    "                    board[i][j] = \"X\"\n",
    "                    score = minimax(board, depth + 1, True)\n",
    "                    board[i][j] = \" \"\n",
    "                    best_score = min(score, best_score)\n",
    "        return best_score\n",
    "\n",
    "def ai_move(board):\n",
    "    best_score = -float(\"inf\")\n",
    "    move = (-1, -1)\n",
    "    for i in range(3):\n",
    "        for j in range(3):\n",
    "            if board[i][j] == \" \":\n",
    "                board[i][j] = \"O\"\n",
    "                score = minimax(board, 0, False)\n",
    "                board[i][j] = \" \"\n",
    "                if score > best_score:\n",
    "                    best_score = score\n",
    "                    move = (i, j)\n",
    "    return move\n",
    "\n",
    "def play_game():\n",
    "    board = [[\" \" for _ in range(3)] for _ in range(3)]\n",
    "    current_player = \"X\"  # Human starts first\n",
    "    while True:\n",
    "        print_board(board)\n",
    "        if current_player == \"X\":\n",
    "            row, col = map(int, input(\"Enter row and column (0-2): \").split())\n",
    "        else:\n",
    "            row, col = ai_move(board)\n",
    "            print(f\"AI plays at ({row}, {col})\")\n",
    "        if board[row][col] == \" \":\n",
    "            board[row][col] = current_player\n",
    "            winner = check_winner(board)\n",
    "            if winner:\n",
    "                print_board(board)\n",
    "                print(f\"{winner} wins!\")\n",
    "                break\n",
    "            elif \" \" not in [cell for row in board for cell in row]:\n",
    "                print_board(board)\n",
    "                print(\"Draw!\")\n",
    "                break\n",
    "            current_player = \"O\" if current_player == \"X\" else \"X\"\n",
    "        else:\n",
    "            print(\"Invalid move!\")\n",
    "\n",
    "play_game()"
   ]
  },
  {
   "cell_type": "code",
   "execution_count": 14,
   "id": "ac823ddf-efba-403d-a4b3-c0b51567c498",
   "metadata": {},
   "outputs": [
    {
     "name": "stdout",
     "output_type": "stream",
     "text": [
      "[[19, 22], [43, 50]]\n"
     ]
    }
   ],
   "source": [
    "def matrix_multiply(A, B):\n",
    "    return [\n",
    "        [\n",
    "            sum(A[i][k] * B[k][j] for k in range(len(B)))\n",
    "            for j in range(len(B[0]))\n",
    "        ]\n",
    "        for i in range(len(A))\n",
    "    ]\n",
    "\n",
    "A = [[1, 2], [3, 4]]\n",
    "B = [[5, 6], [7, 8]]\n",
    "result = matrix_multiply(A, B)\n",
    "print(result) "
   ]
  },
  {
   "cell_type": "code",
   "execution_count": 15,
   "id": "00485cf1-bcc7-447f-8719-c7d0ce9a849d",
   "metadata": {},
   "outputs": [
    {
     "name": "stdout",
     "output_type": "stream",
     "text": [
      "[[6, 8], [10, 12]]\n"
     ]
    }
   ],
   "source": [
    "def matrix_add(A, B):\n",
    "    return [[A[i][j] + B[i][j] for j in range(len(A[0]))] for i in range(len(A))]\n",
    "\n",
    "A = [[1, 2], [3, 4]]\n",
    "B = [[5, 6], [7, 8]]\n",
    "result = matrix_add(A, B)\n",
    "print(result) "
   ]
  },
  {
   "cell_type": "code",
   "execution_count": null,
   "id": "2cce8044-2737-438b-bbd9-5d98dea95f98",
   "metadata": {},
   "outputs": [],
   "source": []
  },
  {
   "cell_type": "code",
   "execution_count": null,
   "id": "74e8450c-0ce3-433b-ae27-e8e8a07ce490",
   "metadata": {},
   "outputs": [],
   "source": []
  },
  {
   "cell_type": "code",
   "execution_count": null,
   "id": "5dd4c7cd-77d8-4689-99c6-466e291234ec",
   "metadata": {},
   "outputs": [],
   "source": []
  }
 ],
 "metadata": {
  "kernelspec": {
   "display_name": "Python 3 (ipykernel)",
   "language": "python",
   "name": "python3"
  },
  "language_info": {
   "codemirror_mode": {
    "name": "ipython",
    "version": 3
   },
   "file_extension": ".py",
   "mimetype": "text/x-python",
   "name": "python",
   "nbconvert_exporter": "python",
   "pygments_lexer": "ipython3",
   "version": "3.13.3"
  }
 },
 "nbformat": 4,
 "nbformat_minor": 5
}
